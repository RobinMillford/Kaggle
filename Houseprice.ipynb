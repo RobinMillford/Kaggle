{
 "cells": [
  {
   "cell_type": "markdown",
   "id": "588441ed",
   "metadata": {},
   "source": [
    "\n",
    "#House Prices: Advanced Regression Techniques\n",
    "\n",
    "Joanna Broniarek\n",
    "\n",
    "Before starting project I read some articles:\n",
    "\n",
    "    https://machinelearningmastery.com/discover-feature-engineering-how-to-engineer-features-and-how-to-get-good-at-it/\n",
    "        Select Data: Integrate data, de-normalize it into a dataset, collect it together.\n",
    "        Preprocess Data: Format it, clean it, sample it so you can work with it.\n",
    "        Transform Data: Feature Engineer happens here.\n",
    "        Model Data: Create models, evaluate them and tune them.\n",
    "\n",
    "    https://machinelearningmastery.com/why-one-hot-encode-data-in-machine-learning/\n",
    "\n",
    "    6 top factors that influence a home’s value: https://www.inman.com/2017/08/07/6-factors-that-influence-a-homes-value/\n",
    "\n",
    "    https://www.rochesterrealestateblog.com/what-factors-influence-the-sale-price-of-a-home/\n",
    "\n",
    "I also took some inspiration and used some techniques of other people, but I did not hard-copied.\n"
   ]
  },
  {
   "cell_type": "code",
   "execution_count": 88,
   "id": "af56c860",
   "metadata": {},
   "outputs": [],
   "source": [
    "import pandas as pd\n",
    "import matplotlib.pyplot as plt\n",
    "import numpy as np\n",
    "import seaborn as sns"
   ]
  },
  {
   "cell_type": "code",
   "execution_count": 89,
   "id": "968651e1",
   "metadata": {},
   "outputs": [
    {
     "name": "stdout",
     "output_type": "stream",
     "text": [
      "Requirement already satisfied: sklearn-pandas in c:\\users\\yamin hossain\\anaconda3\\lib\\site-packages (2.2.0)\n",
      "Requirement already satisfied: numpy>=1.18.1 in c:\\users\\yamin hossain\\anaconda3\\lib\\site-packages (from sklearn-pandas) (1.21.5)\n",
      "Requirement already satisfied: pandas>=1.1.4 in c:\\users\\yamin hossain\\anaconda3\\lib\\site-packages (from sklearn-pandas) (1.4.4)\n",
      "Requirement already satisfied: scipy>=1.5.1 in c:\\users\\yamin hossain\\anaconda3\\lib\\site-packages (from sklearn-pandas) (1.9.1)\n",
      "Requirement already satisfied: scikit-learn>=0.23.0 in c:\\users\\yamin hossain\\anaconda3\\lib\\site-packages (from sklearn-pandas) (1.0.2)\n",
      "Requirement already satisfied: python-dateutil>=2.8.1 in c:\\users\\yamin hossain\\anaconda3\\lib\\site-packages (from pandas>=1.1.4->sklearn-pandas) (2.8.2)\n",
      "Requirement already satisfied: pytz>=2020.1 in c:\\users\\yamin hossain\\anaconda3\\lib\\site-packages (from pandas>=1.1.4->sklearn-pandas) (2022.1)\n",
      "Requirement already satisfied: threadpoolctl>=2.0.0 in c:\\users\\yamin hossain\\anaconda3\\lib\\site-packages (from scikit-learn>=0.23.0->sklearn-pandas) (2.2.0)\n",
      "Requirement already satisfied: joblib>=0.11 in c:\\users\\yamin hossain\\anaconda3\\lib\\site-packages (from scikit-learn>=0.23.0->sklearn-pandas) (1.1.0)\n",
      "Requirement already satisfied: six>=1.5 in c:\\users\\yamin hossain\\anaconda3\\lib\\site-packages (from python-dateutil>=2.8.1->pandas>=1.1.4->sklearn-pandas) (1.16.0)\n",
      "Note: you may need to restart the kernel to use updated packages.\n"
     ]
    }
   ],
   "source": [
    "pip install sklearn-pandas"
   ]
  },
  {
   "cell_type": "code",
   "execution_count": 90,
   "id": "b7c6a789",
   "metadata": {},
   "outputs": [],
   "source": [
    "import sklearn\n",
    "from sklearn.pipeline import Pipeline, FeatureUnion\n",
    "from sklearn.impute import SimpleImputer, MissingIndicator\n",
    "from sklearn.preprocessing import FunctionTransformer, LabelEncoder, Normalizer, StandardScaler, OneHotEncoder\n",
    "from sklearn.base import BaseEstimator, TransformerMixin, ClassifierMixin, clone\n",
    "import sklearn_pandas\n",
    "from sklearn.metrics import accuracy_score\n",
    "from sklearn.model_selection import cross_val_score, train_test_split\n",
    "from scipy import stats\n",
    "from sklearn.linear_model import LinearRegression\n",
    "from scipy.special import boxcox1p\n",
    "import csv\n",
    "\n",
    "import warnings\n",
    "warnings.filterwarnings('ignore')"
   ]
  },
  {
   "cell_type": "code",
   "execution_count": 91,
   "id": "2f766d6e",
   "metadata": {},
   "outputs": [
    {
     "name": "stdout",
     "output_type": "stream",
     "text": [
      "Enviromnet specification\n",
      "\n",
      "python 3.9.13\n",
      "numpy 1.21.5\n",
      "scipy 1.9.1\n",
      "seaborn 0.11.2\n",
      "sklearn 1.0.2\n",
      "pandas 1.4.4\n"
     ]
    }
   ],
   "source": [
    "import sys\n",
    "import scipy\n",
    "\n",
    "print('Enviromnet specification\\n')\n",
    "print('python','%s.%s.%s' % sys.version_info[:3])\n",
    "\n",
    "for mod in np, scipy, sns, sklearn, pd:\n",
    "    print(mod.__name__, mod.__version__)"
   ]
  },
  {
   "cell_type": "markdown",
   "id": "698c3edb",
   "metadata": {},
   "source": [
    "#Reading CSV file as Dataframe:"
   ]
  },
  {
   "cell_type": "code",
   "execution_count": 92,
   "id": "25b90530",
   "metadata": {},
   "outputs": [],
   "source": [
    "#Kaggle train data\n",
    "train = pd.read_csv(\"train.csv\")\n",
    "#kaggle test data\n",
    "test = pd.read_csv(\"test.csv\")"
   ]
  },
  {
   "cell_type": "code",
   "execution_count": 93,
   "id": "47c4ac4d",
   "metadata": {},
   "outputs": [
    {
     "data": {
      "text/html": [
       "<div>\n",
       "<style scoped>\n",
       "    .dataframe tbody tr th:only-of-type {\n",
       "        vertical-align: middle;\n",
       "    }\n",
       "\n",
       "    .dataframe tbody tr th {\n",
       "        vertical-align: top;\n",
       "    }\n",
       "\n",
       "    .dataframe thead th {\n",
       "        text-align: right;\n",
       "    }\n",
       "</style>\n",
       "<table border=\"1\" class=\"dataframe\">\n",
       "  <thead>\n",
       "    <tr style=\"text-align: right;\">\n",
       "      <th></th>\n",
       "      <th>Id</th>\n",
       "      <th>MSSubClass</th>\n",
       "      <th>MSZoning</th>\n",
       "      <th>LotFrontage</th>\n",
       "      <th>LotArea</th>\n",
       "      <th>Street</th>\n",
       "      <th>Alley</th>\n",
       "      <th>LotShape</th>\n",
       "      <th>LandContour</th>\n",
       "      <th>Utilities</th>\n",
       "      <th>...</th>\n",
       "      <th>PoolArea</th>\n",
       "      <th>PoolQC</th>\n",
       "      <th>Fence</th>\n",
       "      <th>MiscFeature</th>\n",
       "      <th>MiscVal</th>\n",
       "      <th>MoSold</th>\n",
       "      <th>YrSold</th>\n",
       "      <th>SaleType</th>\n",
       "      <th>SaleCondition</th>\n",
       "      <th>SalePrice</th>\n",
       "    </tr>\n",
       "  </thead>\n",
       "  <tbody>\n",
       "    <tr>\n",
       "      <th>0</th>\n",
       "      <td>1</td>\n",
       "      <td>60</td>\n",
       "      <td>RL</td>\n",
       "      <td>65.0</td>\n",
       "      <td>8450</td>\n",
       "      <td>Pave</td>\n",
       "      <td>NaN</td>\n",
       "      <td>Reg</td>\n",
       "      <td>Lvl</td>\n",
       "      <td>AllPub</td>\n",
       "      <td>...</td>\n",
       "      <td>0</td>\n",
       "      <td>NaN</td>\n",
       "      <td>NaN</td>\n",
       "      <td>NaN</td>\n",
       "      <td>0</td>\n",
       "      <td>2</td>\n",
       "      <td>2008</td>\n",
       "      <td>WD</td>\n",
       "      <td>Normal</td>\n",
       "      <td>208500.0</td>\n",
       "    </tr>\n",
       "    <tr>\n",
       "      <th>1</th>\n",
       "      <td>2</td>\n",
       "      <td>20</td>\n",
       "      <td>RL</td>\n",
       "      <td>80.0</td>\n",
       "      <td>9600</td>\n",
       "      <td>Pave</td>\n",
       "      <td>NaN</td>\n",
       "      <td>Reg</td>\n",
       "      <td>Lvl</td>\n",
       "      <td>AllPub</td>\n",
       "      <td>...</td>\n",
       "      <td>0</td>\n",
       "      <td>NaN</td>\n",
       "      <td>NaN</td>\n",
       "      <td>NaN</td>\n",
       "      <td>0</td>\n",
       "      <td>5</td>\n",
       "      <td>2007</td>\n",
       "      <td>WD</td>\n",
       "      <td>Normal</td>\n",
       "      <td>181500.0</td>\n",
       "    </tr>\n",
       "    <tr>\n",
       "      <th>2</th>\n",
       "      <td>3</td>\n",
       "      <td>60</td>\n",
       "      <td>RL</td>\n",
       "      <td>68.0</td>\n",
       "      <td>11250</td>\n",
       "      <td>Pave</td>\n",
       "      <td>NaN</td>\n",
       "      <td>IR1</td>\n",
       "      <td>Lvl</td>\n",
       "      <td>AllPub</td>\n",
       "      <td>...</td>\n",
       "      <td>0</td>\n",
       "      <td>NaN</td>\n",
       "      <td>NaN</td>\n",
       "      <td>NaN</td>\n",
       "      <td>0</td>\n",
       "      <td>9</td>\n",
       "      <td>2008</td>\n",
       "      <td>WD</td>\n",
       "      <td>Normal</td>\n",
       "      <td>223500.0</td>\n",
       "    </tr>\n",
       "    <tr>\n",
       "      <th>3</th>\n",
       "      <td>4</td>\n",
       "      <td>70</td>\n",
       "      <td>RL</td>\n",
       "      <td>60.0</td>\n",
       "      <td>9550</td>\n",
       "      <td>Pave</td>\n",
       "      <td>NaN</td>\n",
       "      <td>IR1</td>\n",
       "      <td>Lvl</td>\n",
       "      <td>AllPub</td>\n",
       "      <td>...</td>\n",
       "      <td>0</td>\n",
       "      <td>NaN</td>\n",
       "      <td>NaN</td>\n",
       "      <td>NaN</td>\n",
       "      <td>0</td>\n",
       "      <td>2</td>\n",
       "      <td>2006</td>\n",
       "      <td>WD</td>\n",
       "      <td>Abnorml</td>\n",
       "      <td>140000.0</td>\n",
       "    </tr>\n",
       "    <tr>\n",
       "      <th>4</th>\n",
       "      <td>5</td>\n",
       "      <td>60</td>\n",
       "      <td>RL</td>\n",
       "      <td>84.0</td>\n",
       "      <td>14260</td>\n",
       "      <td>Pave</td>\n",
       "      <td>NaN</td>\n",
       "      <td>IR1</td>\n",
       "      <td>Lvl</td>\n",
       "      <td>AllPub</td>\n",
       "      <td>...</td>\n",
       "      <td>0</td>\n",
       "      <td>NaN</td>\n",
       "      <td>NaN</td>\n",
       "      <td>NaN</td>\n",
       "      <td>0</td>\n",
       "      <td>12</td>\n",
       "      <td>2008</td>\n",
       "      <td>WD</td>\n",
       "      <td>Normal</td>\n",
       "      <td>250000.0</td>\n",
       "    </tr>\n",
       "  </tbody>\n",
       "</table>\n",
       "<p>5 rows × 81 columns</p>\n",
       "</div>"
      ],
      "text/plain": [
       "   Id  MSSubClass MSZoning  LotFrontage  LotArea Street Alley LotShape  \\\n",
       "0   1          60       RL         65.0     8450   Pave   NaN      Reg   \n",
       "1   2          20       RL         80.0     9600   Pave   NaN      Reg   \n",
       "2   3          60       RL         68.0    11250   Pave   NaN      IR1   \n",
       "3   4          70       RL         60.0     9550   Pave   NaN      IR1   \n",
       "4   5          60       RL         84.0    14260   Pave   NaN      IR1   \n",
       "\n",
       "  LandContour Utilities  ... PoolArea PoolQC Fence MiscFeature MiscVal MoSold  \\\n",
       "0         Lvl    AllPub  ...        0    NaN   NaN         NaN       0      2   \n",
       "1         Lvl    AllPub  ...        0    NaN   NaN         NaN       0      5   \n",
       "2         Lvl    AllPub  ...        0    NaN   NaN         NaN       0      9   \n",
       "3         Lvl    AllPub  ...        0    NaN   NaN         NaN       0      2   \n",
       "4         Lvl    AllPub  ...        0    NaN   NaN         NaN       0     12   \n",
       "\n",
       "  YrSold  SaleType  SaleCondition  SalePrice  \n",
       "0   2008        WD         Normal   208500.0  \n",
       "1   2007        WD         Normal   181500.0  \n",
       "2   2008        WD         Normal   223500.0  \n",
       "3   2006        WD        Abnorml   140000.0  \n",
       "4   2008        WD         Normal   250000.0  \n",
       "\n",
       "[5 rows x 81 columns]"
      ]
     },
     "execution_count": 93,
     "metadata": {},
     "output_type": "execute_result"
    }
   ],
   "source": [
    "all_data = pd.concat((train.loc[:,:], test.loc[:,:]))\n",
    "all_data.head()"
   ]
  },
  {
   "cell_type": "markdown",
   "id": "b045c9bd",
   "metadata": {},
   "source": [
    "\n",
    "#Exploratory Data Analysis and Data tidying\n",
    "\n",
    "I noticed that the dataset consists of 38 numerical columns of 81 all. Morover, some columns contain missing data, i.e.\"LotFrontage\", \"MasVnrArea\".\n"
   ]
  },
  {
   "cell_type": "markdown",
   "id": "30ace45a",
   "metadata": {},
   "source": [
    "##The prediction target is 'SalePrice'. Let's look closer to this column."
   ]
  },
  {
   "cell_type": "code",
   "execution_count": 94,
   "id": "4204b547",
   "metadata": {},
   "outputs": [
    {
     "data": {
      "text/plain": [
       "count      1460.000000\n",
       "mean     180921.195890\n",
       "std       79442.502883\n",
       "min       34900.000000\n",
       "25%      129975.000000\n",
       "50%      163000.000000\n",
       "75%      214000.000000\n",
       "max      755000.000000\n",
       "Name: SalePrice, dtype: float64"
      ]
     },
     "execution_count": 94,
     "metadata": {},
     "output_type": "execute_result"
    }
   ],
   "source": [
    "#Basic summary:\n",
    "train['SalePrice'].describe()"
   ]
  },
  {
   "cell_type": "code",
   "execution_count": 95,
   "id": "7e4f577a",
   "metadata": {},
   "outputs": [
    {
     "data": {
      "text/plain": [
       "<AxesSubplot:xlabel='SalePrice'>"
      ]
     },
     "execution_count": 95,
     "metadata": {},
     "output_type": "execute_result"
    },
    {
     "data": {
      "image/png": "[encoded data removed]",
      "text/plain": [
       "<Figure size 640x480 with 1 Axes>"
      ]
     },
     "metadata": {},
     "output_type": "display_data"
    }
   ],
   "source": [
    "sns.boxplot(train['SalePrice'])"
   ]
  },
  {
   "cell_type": "markdown",
   "id": "25f4cdfd",
   "metadata": {},
   "source": [
    "There are two outliers with prices more than 700000"
   ]
  },
  {
   "cell_type": "code",
   "execution_count": 96,
   "id": "309da868",
   "metadata": {},
   "outputs": [
    {
     "data": {
      "text/plain": [
       "<seaborn.axisgrid.FacetGrid at 0x1ab0fbf2a00>"
      ]
     },
     "execution_count": 96,
     "metadata": {},
     "output_type": "execute_result"
    },
    {
     "data": {
      "image/png": "[encoded data removed]",
      "text/plain": [
       "<Figure size 500x500 with 1 Axes>"
      ]
     },
     "metadata": {},
     "output_type": "display_data"
    }
   ],
   "source": [
    "#The Density plot of salePrice\n",
    "sns.displot(train['SalePrice'])"
   ]
  },
  {
   "cell_type": "markdown",
   "id": "801ff31e",
   "metadata": {},
   "source": [
    "I noticed that it is right-skewed distribution with the pick around 160k and quite long tail with maximum about 800k."
   ]
  },
  {
   "cell_type": "code",
   "execution_count": 97,
   "id": "a091559e",
   "metadata": {},
   "outputs": [
    {
     "data": {
      "text/plain": [
       "1.8828757597682129"
      ]
     },
     "execution_count": 97,
     "metadata": {},
     "output_type": "execute_result"
    }
   ],
   "source": [
    "#Positive Skeweness:\n",
    "train['SalePrice'].skew()"
   ]
  },
  {
   "cell_type": "markdown",
   "id": "f2cf7d51",
   "metadata": {},
   "source": [
    "In order to be SalePrice more normal I do Logarithm transformatio."
   ]
  },
  {
   "cell_type": "code",
   "execution_count": 98,
   "id": "f38e7796",
   "metadata": {},
   "outputs": [],
   "source": [
    "train[\"SalePrice\"] = np.log1p(train[\"SalePrice\"])"
   ]
  },
  {
   "cell_type": "code",
   "execution_count": 99,
   "id": "1c8408b0",
   "metadata": {},
   "outputs": [
    {
     "data": {
      "text/plain": [
       "Text(0.5, 1.0, 'Density plot of SalePrice after Log Transformation')"
      ]
     },
     "execution_count": 99,
     "metadata": {},
     "output_type": "execute_result"
    },
    {
     "data": {
      "image/png": "[encoded data removed]",
      "text/plain": [
       "<Figure size 640x480 with 1 Axes>"
      ]
     },
     "metadata": {},
     "output_type": "display_data"
    }
   ],
   "source": [
    "#SalePrice after Log-transformation\n",
    "sns.distplot(train[\"SalePrice\"])\n",
    "plt.title(\"Density plot of SalePrice after Log Transformation\")"
   ]
  },
  {
   "cell_type": "code",
   "execution_count": 100,
   "id": "5e9e24a6",
   "metadata": {},
   "outputs": [],
   "source": [
    "y_train = train[\"SalePrice\"]"
   ]
  },
  {
   "cell_type": "markdown",
   "id": "f16c6149",
   "metadata": {},
   "source": [
    "Columns with Nan values\n",
    "At first, I am checking the fraction of Nan values in each column."
   ]
  },
  {
   "cell_type": "code",
   "execution_count": 101,
   "id": "80248ef7",
   "metadata": {},
   "outputs": [],
   "source": [
    "col_nan = train.isna().sum()/train.shape[0]"
   ]
  },
  {
   "cell_type": "code",
   "execution_count": 102,
   "id": "975b02c6",
   "metadata": {},
   "outputs": [
    {
     "data": {
      "text/plain": [
       "Text(0.5, 1.0, 'Features with the highest percentage of Nan Values')"
      ]
     },
     "execution_count": 102,
     "metadata": {},
     "output_type": "execute_result"
    },
    {
     "data": {
      "image/png": "[encoded data removed]",
      "text/plain": [
       "<Figure size 800x500 with 1 Axes>"
      ]
     },
     "metadata": {},
     "output_type": "display_data"
    }
   ],
   "source": [
    "plt.figure(figsize=(8, 5))\n",
    "sns.set(font_scale=1.2)\n",
    "col_nan[col_nan>0.01].plot(kind = \"barh\")\n",
    "plt.title(\"Features with the highest percentage of Nan Values\")"
   ]
  },
  {
   "cell_type": "code",
   "execution_count": 103,
   "id": "9adef179",
   "metadata": {},
   "outputs": [
    {
     "data": {
      "text/plain": [
       "' In some of my trials I removed columns with more than 90% od NaN values, \\n    but finally I missed this step and left them for further analysis.'"
      ]
     },
     "execution_count": 103,
     "metadata": {},
     "output_type": "execute_result"
    }
   ],
   "source": [
    "\"\"\" In some of my trials I removed columns with more than 90% od NaN values, \n",
    "    but finally I missed this step and left them for further analysis.\"\"\"\n",
    "\n",
    "# drop_out_columns = train.columns[[inx for inx, i in enumerate(col_nan >= 0.95) if i==True]]\n",
    "# trian = train.drop(drop_out_columns, axis=1)\n",
    "# test_df = test_df.drop(drop_out_columns, axis=1)"
   ]
  },
  {
   "cell_type": "code",
   "execution_count": 104,
   "id": "b1177706",
   "metadata": {},
   "outputs": [],
   "source": [
    "#Dropping columns for both train and test dataset\n",
    "train = train.drop(\"Id\", axis=1)\n",
    "test = test.drop(\"Id\", axis=1)"
   ]
  },
  {
   "cell_type": "code",
   "execution_count": 105,
   "id": "f31a87f8",
   "metadata": {},
   "outputs": [
    {
     "data": {
      "text/html": [
       "<div>\n",
       "<style scoped>\n",
       "    .dataframe tbody tr th:only-of-type {\n",
       "        vertical-align: middle;\n",
       "    }\n",
       "\n",
       "    .dataframe tbody tr th {\n",
       "        vertical-align: top;\n",
       "    }\n",
       "\n",
       "    .dataframe thead th {\n",
       "        text-align: right;\n",
       "    }\n",
       "</style>\n",
       "<table border=\"1\" class=\"dataframe\">\n",
       "  <thead>\n",
       "    <tr style=\"text-align: right;\">\n",
       "      <th></th>\n",
       "      <th>MSSubClass</th>\n",
       "      <th>MSZoning</th>\n",
       "      <th>LotFrontage</th>\n",
       "      <th>LotArea</th>\n",
       "      <th>Street</th>\n",
       "      <th>Alley</th>\n",
       "      <th>LotShape</th>\n",
       "      <th>LandContour</th>\n",
       "      <th>Utilities</th>\n",
       "      <th>LotConfig</th>\n",
       "      <th>...</th>\n",
       "      <th>PoolArea</th>\n",
       "      <th>PoolQC</th>\n",
       "      <th>Fence</th>\n",
       "      <th>MiscFeature</th>\n",
       "      <th>MiscVal</th>\n",
       "      <th>MoSold</th>\n",
       "      <th>YrSold</th>\n",
       "      <th>SaleType</th>\n",
       "      <th>SaleCondition</th>\n",
       "      <th>SalePrice</th>\n",
       "    </tr>\n",
       "  </thead>\n",
       "  <tbody>\n",
       "    <tr>\n",
       "      <th>0</th>\n",
       "      <td>60</td>\n",
       "      <td>RL</td>\n",
       "      <td>65.0</td>\n",
       "      <td>8450</td>\n",
       "      <td>Pave</td>\n",
       "      <td>NaN</td>\n",
       "      <td>Reg</td>\n",
       "      <td>Lvl</td>\n",
       "      <td>AllPub</td>\n",
       "      <td>Inside</td>\n",
       "      <td>...</td>\n",
       "      <td>0</td>\n",
       "      <td>NaN</td>\n",
       "      <td>NaN</td>\n",
       "      <td>NaN</td>\n",
       "      <td>0</td>\n",
       "      <td>2</td>\n",
       "      <td>2008</td>\n",
       "      <td>WD</td>\n",
       "      <td>Normal</td>\n",
       "      <td>12.247699</td>\n",
       "    </tr>\n",
       "    <tr>\n",
       "      <th>1</th>\n",
       "      <td>20</td>\n",
       "      <td>RL</td>\n",
       "      <td>80.0</td>\n",
       "      <td>9600</td>\n",
       "      <td>Pave</td>\n",
       "      <td>NaN</td>\n",
       "      <td>Reg</td>\n",
       "      <td>Lvl</td>\n",
       "      <td>AllPub</td>\n",
       "      <td>FR2</td>\n",
       "      <td>...</td>\n",
       "      <td>0</td>\n",
       "      <td>NaN</td>\n",
       "      <td>NaN</td>\n",
       "      <td>NaN</td>\n",
       "      <td>0</td>\n",
       "      <td>5</td>\n",
       "      <td>2007</td>\n",
       "      <td>WD</td>\n",
       "      <td>Normal</td>\n",
       "      <td>12.109016</td>\n",
       "    </tr>\n",
       "    <tr>\n",
       "      <th>2</th>\n",
       "      <td>60</td>\n",
       "      <td>RL</td>\n",
       "      <td>68.0</td>\n",
       "      <td>11250</td>\n",
       "      <td>Pave</td>\n",
       "      <td>NaN</td>\n",
       "      <td>IR1</td>\n",
       "      <td>Lvl</td>\n",
       "      <td>AllPub</td>\n",
       "      <td>Inside</td>\n",
       "      <td>...</td>\n",
       "      <td>0</td>\n",
       "      <td>NaN</td>\n",
       "      <td>NaN</td>\n",
       "      <td>NaN</td>\n",
       "      <td>0</td>\n",
       "      <td>9</td>\n",
       "      <td>2008</td>\n",
       "      <td>WD</td>\n",
       "      <td>Normal</td>\n",
       "      <td>12.317171</td>\n",
       "    </tr>\n",
       "    <tr>\n",
       "      <th>3</th>\n",
       "      <td>70</td>\n",
       "      <td>RL</td>\n",
       "      <td>60.0</td>\n",
       "      <td>9550</td>\n",
       "      <td>Pave</td>\n",
       "      <td>NaN</td>\n",
       "      <td>IR1</td>\n",
       "      <td>Lvl</td>\n",
       "      <td>AllPub</td>\n",
       "      <td>Corner</td>\n",
       "      <td>...</td>\n",
       "      <td>0</td>\n",
       "      <td>NaN</td>\n",
       "      <td>NaN</td>\n",
       "      <td>NaN</td>\n",
       "      <td>0</td>\n",
       "      <td>2</td>\n",
       "      <td>2006</td>\n",
       "      <td>WD</td>\n",
       "      <td>Abnorml</td>\n",
       "      <td>11.849405</td>\n",
       "    </tr>\n",
       "    <tr>\n",
       "      <th>4</th>\n",
       "      <td>60</td>\n",
       "      <td>RL</td>\n",
       "      <td>84.0</td>\n",
       "      <td>14260</td>\n",
       "      <td>Pave</td>\n",
       "      <td>NaN</td>\n",
       "      <td>IR1</td>\n",
       "      <td>Lvl</td>\n",
       "      <td>AllPub</td>\n",
       "      <td>FR2</td>\n",
       "      <td>...</td>\n",
       "      <td>0</td>\n",
       "      <td>NaN</td>\n",
       "      <td>NaN</td>\n",
       "      <td>NaN</td>\n",
       "      <td>0</td>\n",
       "      <td>12</td>\n",
       "      <td>2008</td>\n",
       "      <td>WD</td>\n",
       "      <td>Normal</td>\n",
       "      <td>12.429220</td>\n",
       "    </tr>\n",
       "  </tbody>\n",
       "</table>\n",
       "<p>5 rows × 80 columns</p>\n",
       "</div>"
      ],
      "text/plain": [
       "   MSSubClass MSZoning  LotFrontage  LotArea Street Alley LotShape  \\\n",
       "0          60       RL         65.0     8450   Pave   NaN      Reg   \n",
       "1          20       RL         80.0     9600   Pave   NaN      Reg   \n",
       "2          60       RL         68.0    11250   Pave   NaN      IR1   \n",
       "3          70       RL         60.0     9550   Pave   NaN      IR1   \n",
       "4          60       RL         84.0    14260   Pave   NaN      IR1   \n",
       "\n",
       "  LandContour Utilities LotConfig  ... PoolArea PoolQC Fence MiscFeature  \\\n",
       "0         Lvl    AllPub    Inside  ...        0    NaN   NaN         NaN   \n",
       "1         Lvl    AllPub       FR2  ...        0    NaN   NaN         NaN   \n",
       "2         Lvl    AllPub    Inside  ...        0    NaN   NaN         NaN   \n",
       "3         Lvl    AllPub    Corner  ...        0    NaN   NaN         NaN   \n",
       "4         Lvl    AllPub       FR2  ...        0    NaN   NaN         NaN   \n",
       "\n",
       "  MiscVal MoSold  YrSold  SaleType  SaleCondition  SalePrice  \n",
       "0       0      2    2008        WD         Normal  12.247699  \n",
       "1       0      5    2007        WD         Normal  12.109016  \n",
       "2       0      9    2008        WD         Normal  12.317171  \n",
       "3       0      2    2006        WD        Abnorml  11.849405  \n",
       "4       0     12    2008        WD         Normal  12.429220  \n",
       "\n",
       "[5 rows x 80 columns]"
      ]
     },
     "execution_count": 105,
     "metadata": {},
     "output_type": "execute_result"
    }
   ],
   "source": [
    "train.head()"
   ]
  },
  {
   "cell_type": "code",
   "execution_count": 106,
   "id": "a6980d5c",
   "metadata": {},
   "outputs": [
    {
     "data": {
      "text/html": [
       "<div>\n",
       "<style scoped>\n",
       "    .dataframe tbody tr th:only-of-type {\n",
       "        vertical-align: middle;\n",
       "    }\n",
       "\n",
       "    .dataframe tbody tr th {\n",
       "        vertical-align: top;\n",
       "    }\n",
       "\n",
       "    .dataframe thead th {\n",
       "        text-align: right;\n",
       "    }\n",
       "</style>\n",
       "<table border=\"1\" class=\"dataframe\">\n",
       "  <thead>\n",
       "    <tr style=\"text-align: right;\">\n",
       "      <th></th>\n",
       "      <th>MSSubClass</th>\n",
       "      <th>MSZoning</th>\n",
       "      <th>LotFrontage</th>\n",
       "      <th>LotArea</th>\n",
       "      <th>Street</th>\n",
       "      <th>Alley</th>\n",
       "      <th>LotShape</th>\n",
       "      <th>LandContour</th>\n",
       "      <th>Utilities</th>\n",
       "      <th>LotConfig</th>\n",
       "      <th>...</th>\n",
       "      <th>ScreenPorch</th>\n",
       "      <th>PoolArea</th>\n",
       "      <th>PoolQC</th>\n",
       "      <th>Fence</th>\n",
       "      <th>MiscFeature</th>\n",
       "      <th>MiscVal</th>\n",
       "      <th>MoSold</th>\n",
       "      <th>YrSold</th>\n",
       "      <th>SaleType</th>\n",
       "      <th>SaleCondition</th>\n",
       "    </tr>\n",
       "  </thead>\n",
       "  <tbody>\n",
       "    <tr>\n",
       "      <th>0</th>\n",
       "      <td>20</td>\n",
       "      <td>RH</td>\n",
       "      <td>80.0</td>\n",
       "      <td>11622</td>\n",
       "      <td>Pave</td>\n",
       "      <td>NaN</td>\n",
       "      <td>Reg</td>\n",
       "      <td>Lvl</td>\n",
       "      <td>AllPub</td>\n",
       "      <td>Inside</td>\n",
       "      <td>...</td>\n",
       "      <td>120</td>\n",
       "      <td>0</td>\n",
       "      <td>NaN</td>\n",
       "      <td>MnPrv</td>\n",
       "      <td>NaN</td>\n",
       "      <td>0</td>\n",
       "      <td>6</td>\n",
       "      <td>2010</td>\n",
       "      <td>WD</td>\n",
       "      <td>Normal</td>\n",
       "    </tr>\n",
       "    <tr>\n",
       "      <th>1</th>\n",
       "      <td>20</td>\n",
       "      <td>RL</td>\n",
       "      <td>81.0</td>\n",
       "      <td>14267</td>\n",
       "      <td>Pave</td>\n",
       "      <td>NaN</td>\n",
       "      <td>IR1</td>\n",
       "      <td>Lvl</td>\n",
       "      <td>AllPub</td>\n",
       "      <td>Corner</td>\n",
       "      <td>...</td>\n",
       "      <td>0</td>\n",
       "      <td>0</td>\n",
       "      <td>NaN</td>\n",
       "      <td>NaN</td>\n",
       "      <td>Gar2</td>\n",
       "      <td>12500</td>\n",
       "      <td>6</td>\n",
       "      <td>2010</td>\n",
       "      <td>WD</td>\n",
       "      <td>Normal</td>\n",
       "    </tr>\n",
       "    <tr>\n",
       "      <th>2</th>\n",
       "      <td>60</td>\n",
       "      <td>RL</td>\n",
       "      <td>74.0</td>\n",
       "      <td>13830</td>\n",
       "      <td>Pave</td>\n",
       "      <td>NaN</td>\n",
       "      <td>IR1</td>\n",
       "      <td>Lvl</td>\n",
       "      <td>AllPub</td>\n",
       "      <td>Inside</td>\n",
       "      <td>...</td>\n",
       "      <td>0</td>\n",
       "      <td>0</td>\n",
       "      <td>NaN</td>\n",
       "      <td>MnPrv</td>\n",
       "      <td>NaN</td>\n",
       "      <td>0</td>\n",
       "      <td>3</td>\n",
       "      <td>2010</td>\n",
       "      <td>WD</td>\n",
       "      <td>Normal</td>\n",
       "    </tr>\n",
       "    <tr>\n",
       "      <th>3</th>\n",
       "      <td>60</td>\n",
       "      <td>RL</td>\n",
       "      <td>78.0</td>\n",
       "      <td>9978</td>\n",
       "      <td>Pave</td>\n",
       "      <td>NaN</td>\n",
       "      <td>IR1</td>\n",
       "      <td>Lvl</td>\n",
       "      <td>AllPub</td>\n",
       "      <td>Inside</td>\n",
       "      <td>...</td>\n",
       "      <td>0</td>\n",
       "      <td>0</td>\n",
       "      <td>NaN</td>\n",
       "      <td>NaN</td>\n",
       "      <td>NaN</td>\n",
       "      <td>0</td>\n",
       "      <td>6</td>\n",
       "      <td>2010</td>\n",
       "      <td>WD</td>\n",
       "      <td>Normal</td>\n",
       "    </tr>\n",
       "    <tr>\n",
       "      <th>4</th>\n",
       "      <td>120</td>\n",
       "      <td>RL</td>\n",
       "      <td>43.0</td>\n",
       "      <td>5005</td>\n",
       "      <td>Pave</td>\n",
       "      <td>NaN</td>\n",
       "      <td>IR1</td>\n",
       "      <td>HLS</td>\n",
       "      <td>AllPub</td>\n",
       "      <td>Inside</td>\n",
       "      <td>...</td>\n",
       "      <td>144</td>\n",
       "      <td>0</td>\n",
       "      <td>NaN</td>\n",
       "      <td>NaN</td>\n",
       "      <td>NaN</td>\n",
       "      <td>0</td>\n",
       "      <td>1</td>\n",
       "      <td>2010</td>\n",
       "      <td>WD</td>\n",
       "      <td>Normal</td>\n",
       "    </tr>\n",
       "  </tbody>\n",
       "</table>\n",
       "<p>5 rows × 79 columns</p>\n",
       "</div>"
      ],
      "text/plain": [
       "   MSSubClass MSZoning  LotFrontage  LotArea Street Alley LotShape  \\\n",
       "0          20       RH         80.0    11622   Pave   NaN      Reg   \n",
       "1          20       RL         81.0    14267   Pave   NaN      IR1   \n",
       "2          60       RL         74.0    13830   Pave   NaN      IR1   \n",
       "3          60       RL         78.0     9978   Pave   NaN      IR1   \n",
       "4         120       RL         43.0     5005   Pave   NaN      IR1   \n",
       "\n",
       "  LandContour Utilities LotConfig  ... ScreenPorch PoolArea PoolQC  Fence  \\\n",
       "0         Lvl    AllPub    Inside  ...         120        0    NaN  MnPrv   \n",
       "1         Lvl    AllPub    Corner  ...           0        0    NaN    NaN   \n",
       "2         Lvl    AllPub    Inside  ...           0        0    NaN  MnPrv   \n",
       "3         Lvl    AllPub    Inside  ...           0        0    NaN    NaN   \n",
       "4         HLS    AllPub    Inside  ...         144        0    NaN    NaN   \n",
       "\n",
       "  MiscFeature MiscVal  MoSold  YrSold  SaleType  SaleCondition  \n",
       "0         NaN       0       6    2010        WD         Normal  \n",
       "1        Gar2   12500       6    2010        WD         Normal  \n",
       "2         NaN       0       3    2010        WD         Normal  \n",
       "3         NaN       0       6    2010        WD         Normal  \n",
       "4         NaN       0       1    2010        WD         Normal  \n",
       "\n",
       "[5 rows x 79 columns]"
      ]
     },
     "execution_count": 106,
     "metadata": {},
     "output_type": "execute_result"
    }
   ],
   "source": [
    "test.head()"
   ]
  },
  {
   "cell_type": "markdown",
   "id": "84a9344d",
   "metadata": {},
   "source": [
    "Removing columns that contain the same value in 100%\n",
    "\n",
    "According to basic statistics provided on Kaggle competiton website, the columns Street and Utilities contain only one value \"Pave\" and \"AllPub\" respectively."
   ]
  },
  {
   "cell_type": "code",
   "execution_count": 107,
   "id": "94074533",
   "metadata": {},
   "outputs": [],
   "source": [
    "train = train.drop([\"Street\",\"Utilities\"], axis=1)\n",
    "test = test.drop([\"Street\",\"Utilities\"], axis=1)"
   ]
  },
  {
   "cell_type": "code",
   "execution_count": 108,
   "id": "b6fda1c2",
   "metadata": {},
   "outputs": [
    {
     "name": "stdout",
     "output_type": "stream",
     "text": [
      "<class 'pandas.core.frame.DataFrame'>\n",
      "RangeIndex: 1460 entries, 0 to 1459\n",
      "Data columns (total 78 columns):\n",
      " #   Column         Non-Null Count  Dtype  \n",
      "---  ------         --------------  -----  \n",
      " 0   MSSubClass     1460 non-null   int64  \n",
      " 1   MSZoning       1460 non-null   object \n",
      " 2   LotFrontage    1201 non-null   float64\n",
      " 3   LotArea        1460 non-null   int64  \n",
      " 4   Alley          91 non-null     object \n",
      " 5   LotShape       1460 non-null   object \n",
      " 6   LandContour    1460 non-null   object \n",
      " 7   LotConfig      1460 non-null   object \n",
      " 8   LandSlope      1460 non-null   object \n",
      " 9   Neighborhood   1460 non-null   object \n",
      " 10  Condition1     1460 non-null   object \n",
      " 11  Condition2     1460 non-null   object \n",
      " 12  BldgType       1460 non-null   object \n",
      " 13  HouseStyle     1460 non-null   object \n",
      " 14  OverallQual    1460 non-null   int64  \n",
      " 15  OverallCond    1460 non-null   int64  \n",
      " 16  YearBuilt      1460 non-null   int64  \n",
      " 17  YearRemodAdd   1460 non-null   int64  \n",
      " 18  RoofStyle      1460 non-null   object \n",
      " 19  RoofMatl       1460 non-null   object \n",
      " 20  Exterior1st    1460 non-null   object \n",
      " 21  Exterior2nd    1460 non-null   object \n",
      " 22  MasVnrType     1452 non-null   object \n",
      " 23  MasVnrArea     1452 non-null   float64\n",
      " 24  ExterQual      1460 non-null   object \n",
      " 25  ExterCond      1460 non-null   object \n",
      " 26  Foundation     1460 non-null   object \n",
      " 27  BsmtQual       1423 non-null   object \n",
      " 28  BsmtCond       1423 non-null   object \n",
      " 29  BsmtExposure   1422 non-null   object \n",
      " 30  BsmtFinType1   1423 non-null   object \n",
      " 31  BsmtFinSF1     1460 non-null   int64  \n",
      " 32  BsmtFinType2   1422 non-null   object \n",
      " 33  BsmtFinSF2     1460 non-null   int64  \n",
      " 34  BsmtUnfSF      1460 non-null   int64  \n",
      " 35  TotalBsmtSF    1460 non-null   int64  \n",
      " 36  Heating        1460 non-null   object \n",
      " 37  HeatingQC      1460 non-null   object \n",
      " 38  CentralAir     1460 non-null   object \n",
      " 39  Electrical     1459 non-null   object \n",
      " 40  1stFlrSF       1460 non-null   int64  \n",
      " 41  2ndFlrSF       1460 non-null   int64  \n",
      " 42  LowQualFinSF   1460 non-null   int64  \n",
      " 43  GrLivArea      1460 non-null   int64  \n",
      " 44  BsmtFullBath   1460 non-null   int64  \n",
      " 45  BsmtHalfBath   1460 non-null   int64  \n",
      " 46  FullBath       1460 non-null   int64  \n",
      " 47  HalfBath       1460 non-null   int64  \n",
      " 48  BedroomAbvGr   1460 non-null   int64  \n",
      " 49  KitchenAbvGr   1460 non-null   int64  \n",
      " 50  KitchenQual    1460 non-null   object \n",
      " 51  TotRmsAbvGrd   1460 non-null   int64  \n",
      " 52  Functional     1460 non-null   object \n",
      " 53  Fireplaces     1460 non-null   int64  \n",
      " 54  FireplaceQu    770 non-null    object \n",
      " 55  GarageType     1379 non-null   object \n",
      " 56  GarageYrBlt    1379 non-null   float64\n",
      " 57  GarageFinish   1379 non-null   object \n",
      " 58  GarageCars     1460 non-null   int64  \n",
      " 59  GarageArea     1460 non-null   int64  \n",
      " 60  GarageQual     1379 non-null   object \n",
      " 61  GarageCond     1379 non-null   object \n",
      " 62  PavedDrive     1460 non-null   object \n",
      " 63  WoodDeckSF     1460 non-null   int64  \n",
      " 64  OpenPorchSF    1460 non-null   int64  \n",
      " 65  EnclosedPorch  1460 non-null   int64  \n",
      " 66  3SsnPorch      1460 non-null   int64  \n",
      " 67  ScreenPorch    1460 non-null   int64  \n",
      " 68  PoolArea       1460 non-null   int64  \n",
      " 69  PoolQC         7 non-null      object \n",
      " 70  Fence          281 non-null    object \n",
      " 71  MiscFeature    54 non-null     object \n",
      " 72  MiscVal        1460 non-null   int64  \n",
      " 73  MoSold         1460 non-null   int64  \n",
      " 74  YrSold         1460 non-null   int64  \n",
      " 75  SaleType       1460 non-null   object \n",
      " 76  SaleCondition  1460 non-null   object \n",
      " 77  SalePrice      1460 non-null   float64\n",
      "dtypes: float64(4), int64(33), object(41)\n",
      "memory usage: 889.8+ KB\n"
     ]
    }
   ],
   "source": [
    "train.info()"
   ]
  },
  {
   "cell_type": "code",
   "execution_count": 109,
   "id": "4cf3824a",
   "metadata": {},
   "outputs": [
    {
     "name": "stdout",
     "output_type": "stream",
     "text": [
      "<class 'pandas.core.frame.DataFrame'>\n",
      "RangeIndex: 1459 entries, 0 to 1458\n",
      "Data columns (total 77 columns):\n",
      " #   Column         Non-Null Count  Dtype  \n",
      "---  ------         --------------  -----  \n",
      " 0   MSSubClass     1459 non-null   int64  \n",
      " 1   MSZoning       1455 non-null   object \n",
      " 2   LotFrontage    1232 non-null   float64\n",
      " 3   LotArea        1459 non-null   int64  \n",
      " 4   Alley          107 non-null    object \n",
      " 5   LotShape       1459 non-null   object \n",
      " 6   LandContour    1459 non-null   object \n",
      " 7   LotConfig      1459 non-null   object \n",
      " 8   LandSlope      1459 non-null   object \n",
      " 9   Neighborhood   1459 non-null   object \n",
      " 10  Condition1     1459 non-null   object \n",
      " 11  Condition2     1459 non-null   object \n",
      " 12  BldgType       1459 non-null   object \n",
      " 13  HouseStyle     1459 non-null   object \n",
      " 14  OverallQual    1459 non-null   int64  \n",
      " 15  OverallCond    1459 non-null   int64  \n",
      " 16  YearBuilt      1459 non-null   int64  \n",
      " 17  YearRemodAdd   1459 non-null   int64  \n",
      " 18  RoofStyle      1459 non-null   object \n",
      " 19  RoofMatl       1459 non-null   object \n",
      " 20  Exterior1st    1458 non-null   object \n",
      " 21  Exterior2nd    1458 non-null   object \n",
      " 22  MasVnrType     1443 non-null   object \n",
      " 23  MasVnrArea     1444 non-null   float64\n",
      " 24  ExterQual      1459 non-null   object \n",
      " 25  ExterCond      1459 non-null   object \n",
      " 26  Foundation     1459 non-null   object \n",
      " 27  BsmtQual       1415 non-null   object \n",
      " 28  BsmtCond       1414 non-null   object \n",
      " 29  BsmtExposure   1415 non-null   object \n",
      " 30  BsmtFinType1   1417 non-null   object \n",
      " 31  BsmtFinSF1     1458 non-null   float64\n",
      " 32  BsmtFinType2   1417 non-null   object \n",
      " 33  BsmtFinSF2     1458 non-null   float64\n",
      " 34  BsmtUnfSF      1458 non-null   float64\n",
      " 35  TotalBsmtSF    1458 non-null   float64\n",
      " 36  Heating        1459 non-null   object \n",
      " 37  HeatingQC      1459 non-null   object \n",
      " 38  CentralAir     1459 non-null   object \n",
      " 39  Electrical     1459 non-null   object \n",
      " 40  1stFlrSF       1459 non-null   int64  \n",
      " 41  2ndFlrSF       1459 non-null   int64  \n",
      " 42  LowQualFinSF   1459 non-null   int64  \n",
      " 43  GrLivArea      1459 non-null   int64  \n",
      " 44  BsmtFullBath   1457 non-null   float64\n",
      " 45  BsmtHalfBath   1457 non-null   float64\n",
      " 46  FullBath       1459 non-null   int64  \n",
      " 47  HalfBath       1459 non-null   int64  \n",
      " 48  BedroomAbvGr   1459 non-null   int64  \n",
      " 49  KitchenAbvGr   1459 non-null   int64  \n",
      " 50  KitchenQual    1458 non-null   object \n",
      " 51  TotRmsAbvGrd   1459 non-null   int64  \n",
      " 52  Functional     1457 non-null   object \n",
      " 53  Fireplaces     1459 non-null   int64  \n",
      " 54  FireplaceQu    729 non-null    object \n",
      " 55  GarageType     1383 non-null   object \n",
      " 56  GarageYrBlt    1381 non-null   float64\n",
      " 57  GarageFinish   1381 non-null   object \n",
      " 58  GarageCars     1458 non-null   float64\n",
      " 59  GarageArea     1458 non-null   float64\n",
      " 60  GarageQual     1381 non-null   object \n",
      " 61  GarageCond     1381 non-null   object \n",
      " 62  PavedDrive     1459 non-null   object \n",
      " 63  WoodDeckSF     1459 non-null   int64  \n",
      " 64  OpenPorchSF    1459 non-null   int64  \n",
      " 65  EnclosedPorch  1459 non-null   int64  \n",
      " 66  3SsnPorch      1459 non-null   int64  \n",
      " 67  ScreenPorch    1459 non-null   int64  \n",
      " 68  PoolArea       1459 non-null   int64  \n",
      " 69  PoolQC         3 non-null      object \n",
      " 70  Fence          290 non-null    object \n",
      " 71  MiscFeature    51 non-null     object \n",
      " 72  MiscVal        1459 non-null   int64  \n",
      " 73  MoSold         1459 non-null   int64  \n",
      " 74  YrSold         1459 non-null   int64  \n",
      " 75  SaleType       1458 non-null   object \n",
      " 76  SaleCondition  1459 non-null   object \n",
      "dtypes: float64(11), int64(25), object(41)\n",
      "memory usage: 877.8+ KB\n"
     ]
    }
   ],
   "source": [
    "test.info()"
   ]
  },
  {
   "cell_type": "markdown",
   "id": "efeeb6ee",
   "metadata": {},
   "source": [
    "#Removing outliers\n",
    "\n",
    "Removing outliers is important step in data analysis. However, while removing outliers in ML we should be careful, because we do not know if there are not any outliers in test set.\n",
    "\n",
    "I used two techniques: more and less rigorous for this data.\n",
    "\n",
    "The first one was Z-score method. Z-scores are expressed in terms of standard deviations from their means. As a result, these z-scores have a distribution with a mean of 0 and a standard deviation of 1.\n",
    "I set threshold = 3 to identify outliers. "
   ]
  },
  {
   "cell_type": "code",
   "execution_count": 110,
   "id": "08da0f69",
   "metadata": {},
   "outputs": [],
   "source": [
    "def remove_outliers(dataset, threshold, columns=None, removed = False):\n",
    "    \"\"\" \n",
    "    Z-score method.\n",
    "    Function returns a dataframe without rows labeled as 'outliers' according to the given threshold.  \n",
    "    ---------------\n",
    "    If columns = None, transform all numerical columns.\n",
    "    If removed = True, return also dataframe with removed rows.\n",
    "    \"\"\"\n",
    "    if columns==None:\n",
    "        numerics = ['int64','float64']\n",
    "        columns = dataset.select_dtypes(include=numerics).columns\n",
    "    \n",
    "    tmp = dataset.copy()\n",
    "    z = np.abs(stats.zscore(tmp[columns]))\n",
    "    outliers = [row.any() for row in (z > threshold)]  \n",
    "    outliers_idxs = tmp.index[outliers].tolist()\n",
    "    print(\"Number of removed rows = {}\".format(len(outliers_idxs)))\n",
    "    if removed: return dataset.drop(outliers_idxs), tmp.loc[outliers]\n",
    "    else: return dataset.drop(outliers_idxs)"
   ]
  },
  {
   "cell_type": "code",
   "execution_count": 111,
   "id": "89ce1fcd",
   "metadata": {},
   "outputs": [],
   "source": [
    "# clear_data is a dataframe with train data after removing outliers\n",
    "\n",
    "# clear_data, removed_data = remove_outliers(train, threshold = 3, removed=True, \n",
    "#                              columns=['GrLivArea'])"
   ]
  },
  {
   "cell_type": "markdown",
   "id": "1ed6adfa",
   "metadata": {},
   "source": [
    "Finally, after few trials I used less rigorous method. I just made a plot for SalePrice and GrLivArea and removed those which seems to be outliers.\n",
    "\n",
    "** Removing outliers according to GrLivArea**"
   ]
  },
  {
   "cell_type": "code",
   "execution_count": 112,
   "id": "a19a6869",
   "metadata": {
    "scrolled": true
   },
   "outputs": [
    {
     "data": {
      "text/plain": [
       "Text(0.5, 1.0, 'GrLivArea vs SalePrice')"
      ]
     },
     "execution_count": 112,
     "metadata": {},
     "output_type": "execute_result"
    },
    {
     "data": {
      "image/png": "[encoded data removed]",
      "text/plain": [
       "<Figure size 800x500 with 1 Axes>"
      ]
     },
     "metadata": {},
     "output_type": "display_data"
    }
   ],
   "source": [
    "plt.figure(figsize=(8, 5))\n",
    "sns.set(font_scale=1.2)\n",
    "sns.scatterplot(train[\"GrLivArea\"], train[\"SalePrice\"])\n",
    "# plt.vlines(4500, ymax=800000, ymin=0)\n",
    "plt.title(\"GrLivArea vs SalePrice\")"
   ]
  },
  {
   "cell_type": "code",
   "execution_count": 113,
   "id": "ca29ecd1",
   "metadata": {},
   "outputs": [],
   "source": [
    "# I decided to remove those records where 'GrLivArea' is more than 4500. We can see on plot that they have a vey low price.\n",
    "clear_data = train.drop(train[(train['GrLivArea']>4500)].index)"
   ]
  },
  {
   "cell_type": "code",
   "execution_count": 114,
   "id": "258ea5b3",
   "metadata": {},
   "outputs": [],
   "source": [
    "# Concatenate all data together - both train and test\n",
    "train_ = clear_data.drop(['SalePrice'], axis=1)\n",
    "all_data = pd.concat([train, test]).reset_index(drop=True)"
   ]
  },
  {
   "cell_type": "markdown",
   "id": "4ffd87b6",
   "metadata": {},
   "source": [
    "#GarageYrBlt feature\n",
    "\n",
    "I checked if there are records that YearBuilt or GarageYrBlt have further year than 2017."
   ]
  },
  {
   "cell_type": "code",
   "execution_count": 115,
   "id": "d0b09e25",
   "metadata": {},
   "outputs": [
    {
     "name": "stdout",
     "output_type": "stream",
     "text": [
      "Is there YearBuilt more than 2017 ? :  False\n",
      "Is there GarageYrBlt more than 2017 ? :  True\n"
     ]
    }
   ],
   "source": [
    "print(\"Is there YearBuilt more than 2017 ? : \", all_data[all_data.YearBuilt > 2017].count()[0] != 0)\n",
    "print(\"Is there GarageYrBlt more than 2017 ? : \", all_data[all_data.GarageYrBlt > 2017].count()[0] != 0)"
   ]
  },
  {
   "cell_type": "code",
   "execution_count": 116,
   "id": "dd44e786",
   "metadata": {},
   "outputs": [
    {
     "data": {
      "text/plain": [
       "2592    2207.0\n",
       "Name: GarageYrBlt, dtype: float64"
      ]
     },
     "execution_count": 116,
     "metadata": {},
     "output_type": "execute_result"
    }
   ],
   "source": [
    "all_data[all_data.GarageYrBlt > 2017].GarageYrBlt #It seems like it is a typo"
   ]
  },
  {
   "cell_type": "code",
   "execution_count": 117,
   "id": "71151ae6",
   "metadata": {},
   "outputs": [],
   "source": [
    "all_data.loc[2590, 'GarageYrBlt'] = 2007"
   ]
  },
  {
   "cell_type": "markdown",
   "id": "9b5ecee1",
   "metadata": {},
   "source": [
    "#LotFrontage feature\n",
    "\n",
    "LotFrontage is a linear feet of street connected to property. I think it is a high probability that these values are similar to houses in the same Neighborhood. I check some statistics for them."
   ]
  },
  {
   "cell_type": "code",
   "execution_count": 118,
   "id": "23fa7d8b",
   "metadata": {},
   "outputs": [
    {
     "data": {
      "text/html": [
       "<div>\n",
       "<style scoped>\n",
       "    .dataframe tbody tr th:only-of-type {\n",
       "        vertical-align: middle;\n",
       "    }\n",
       "\n",
       "    .dataframe tbody tr th {\n",
       "        vertical-align: top;\n",
       "    }\n",
       "\n",
       "    .dataframe thead th {\n",
       "        text-align: right;\n",
       "    }\n",
       "</style>\n",
       "<table border=\"1\" class=\"dataframe\">\n",
       "  <thead>\n",
       "    <tr style=\"text-align: right;\">\n",
       "      <th></th>\n",
       "      <th>mean</th>\n",
       "      <th>median</th>\n",
       "      <th>avg_mean_median</th>\n",
       "    </tr>\n",
       "    <tr>\n",
       "      <th>Neighborhood</th>\n",
       "      <th></th>\n",
       "      <th></th>\n",
       "      <th></th>\n",
       "    </tr>\n",
       "  </thead>\n",
       "  <tbody>\n",
       "    <tr>\n",
       "      <th>Blmngtn</th>\n",
       "      <td>46.900000</td>\n",
       "      <td>43.0</td>\n",
       "      <td>44.950000</td>\n",
       "    </tr>\n",
       "    <tr>\n",
       "      <th>Blueste</th>\n",
       "      <td>27.300000</td>\n",
       "      <td>24.0</td>\n",
       "      <td>25.650000</td>\n",
       "    </tr>\n",
       "    <tr>\n",
       "      <th>BrDale</th>\n",
       "      <td>21.500000</td>\n",
       "      <td>21.0</td>\n",
       "      <td>21.250000</td>\n",
       "    </tr>\n",
       "    <tr>\n",
       "      <th>BrkSide</th>\n",
       "      <td>55.789474</td>\n",
       "      <td>51.0</td>\n",
       "      <td>53.394737</td>\n",
       "    </tr>\n",
       "    <tr>\n",
       "      <th>ClearCr</th>\n",
       "      <td>88.150000</td>\n",
       "      <td>80.5</td>\n",
       "      <td>84.325000</td>\n",
       "    </tr>\n",
       "    <tr>\n",
       "      <th>CollgCr</th>\n",
       "      <td>71.336364</td>\n",
       "      <td>70.0</td>\n",
       "      <td>70.668182</td>\n",
       "    </tr>\n",
       "    <tr>\n",
       "      <th>Crawfor</th>\n",
       "      <td>69.951807</td>\n",
       "      <td>70.0</td>\n",
       "      <td>69.975904</td>\n",
       "    </tr>\n",
       "    <tr>\n",
       "      <th>Edwards</th>\n",
       "      <td>66.910112</td>\n",
       "      <td>65.0</td>\n",
       "      <td>65.955056</td>\n",
       "    </tr>\n",
       "    <tr>\n",
       "      <th>Gilbert</th>\n",
       "      <td>74.207207</td>\n",
       "      <td>64.0</td>\n",
       "      <td>69.103604</td>\n",
       "    </tr>\n",
       "    <tr>\n",
       "      <th>IDOTRR</th>\n",
       "      <td>62.241379</td>\n",
       "      <td>60.0</td>\n",
       "      <td>61.120690</td>\n",
       "    </tr>\n",
       "    <tr>\n",
       "      <th>MeadowV</th>\n",
       "      <td>25.606061</td>\n",
       "      <td>21.0</td>\n",
       "      <td>23.303030</td>\n",
       "    </tr>\n",
       "    <tr>\n",
       "      <th>Mitchel</th>\n",
       "      <td>75.144444</td>\n",
       "      <td>74.0</td>\n",
       "      <td>74.572222</td>\n",
       "    </tr>\n",
       "    <tr>\n",
       "      <th>NAmes</th>\n",
       "      <td>75.210667</td>\n",
       "      <td>73.0</td>\n",
       "      <td>74.105333</td>\n",
       "    </tr>\n",
       "    <tr>\n",
       "      <th>NPkVill</th>\n",
       "      <td>28.142857</td>\n",
       "      <td>24.0</td>\n",
       "      <td>26.071429</td>\n",
       "    </tr>\n",
       "    <tr>\n",
       "      <th>NWAmes</th>\n",
       "      <td>81.517647</td>\n",
       "      <td>80.0</td>\n",
       "      <td>80.758824</td>\n",
       "    </tr>\n",
       "    <tr>\n",
       "      <th>NoRidge</th>\n",
       "      <td>91.629630</td>\n",
       "      <td>89.0</td>\n",
       "      <td>90.314815</td>\n",
       "    </tr>\n",
       "    <tr>\n",
       "      <th>NridgHt</th>\n",
       "      <td>84.184049</td>\n",
       "      <td>92.0</td>\n",
       "      <td>88.092025</td>\n",
       "    </tr>\n",
       "    <tr>\n",
       "      <th>OldTown</th>\n",
       "      <td>61.777293</td>\n",
       "      <td>60.0</td>\n",
       "      <td>60.888646</td>\n",
       "    </tr>\n",
       "    <tr>\n",
       "      <th>SWISU</th>\n",
       "      <td>59.068182</td>\n",
       "      <td>60.0</td>\n",
       "      <td>59.534091</td>\n",
       "    </tr>\n",
       "    <tr>\n",
       "      <th>Sawyer</th>\n",
       "      <td>74.551020</td>\n",
       "      <td>72.0</td>\n",
       "      <td>73.275510</td>\n",
       "    </tr>\n",
       "    <tr>\n",
       "      <th>SawyerW</th>\n",
       "      <td>70.669811</td>\n",
       "      <td>67.0</td>\n",
       "      <td>68.834906</td>\n",
       "    </tr>\n",
       "    <tr>\n",
       "      <th>Somerst</th>\n",
       "      <td>64.549383</td>\n",
       "      <td>72.5</td>\n",
       "      <td>68.524691</td>\n",
       "    </tr>\n",
       "    <tr>\n",
       "      <th>StoneBr</th>\n",
       "      <td>62.173913</td>\n",
       "      <td>60.0</td>\n",
       "      <td>61.086957</td>\n",
       "    </tr>\n",
       "    <tr>\n",
       "      <th>Timber</th>\n",
       "      <td>81.157895</td>\n",
       "      <td>82.0</td>\n",
       "      <td>81.578947</td>\n",
       "    </tr>\n",
       "    <tr>\n",
       "      <th>Veenker</th>\n",
       "      <td>72.000000</td>\n",
       "      <td>80.0</td>\n",
       "      <td>76.000000</td>\n",
       "    </tr>\n",
       "  </tbody>\n",
       "</table>\n",
       "</div>"
      ],
      "text/plain": [
       "                   mean  median  avg_mean_median\n",
       "Neighborhood                                    \n",
       "Blmngtn       46.900000    43.0        44.950000\n",
       "Blueste       27.300000    24.0        25.650000\n",
       "BrDale        21.500000    21.0        21.250000\n",
       "BrkSide       55.789474    51.0        53.394737\n",
       "ClearCr       88.150000    80.5        84.325000\n",
       "CollgCr       71.336364    70.0        70.668182\n",
       "Crawfor       69.951807    70.0        69.975904\n",
       "Edwards       66.910112    65.0        65.955056\n",
       "Gilbert       74.207207    64.0        69.103604\n",
       "IDOTRR        62.241379    60.0        61.120690\n",
       "MeadowV       25.606061    21.0        23.303030\n",
       "Mitchel       75.144444    74.0        74.572222\n",
       "NAmes         75.210667    73.0        74.105333\n",
       "NPkVill       28.142857    24.0        26.071429\n",
       "NWAmes        81.517647    80.0        80.758824\n",
       "NoRidge       91.629630    89.0        90.314815\n",
       "NridgHt       84.184049    92.0        88.092025\n",
       "OldTown       61.777293    60.0        60.888646\n",
       "SWISU         59.068182    60.0        59.534091\n",
       "Sawyer        74.551020    72.0        73.275510\n",
       "SawyerW       70.669811    67.0        68.834906\n",
       "Somerst       64.549383    72.5        68.524691\n",
       "StoneBr       62.173913    60.0        61.086957\n",
       "Timber        81.157895    82.0        81.578947\n",
       "Veenker       72.000000    80.0        76.000000"
      ]
     },
     "execution_count": 118,
     "metadata": {},
     "output_type": "execute_result"
    }
   ],
   "source": [
    "neigh_lot_frontage = all_data.groupby('Neighborhood')['LotFrontage'].agg([\"mean\", \"median\"])\n",
    "neigh_lot_frontage['avg_mean_median'] = (neigh_lot_frontage['mean'] + neigh_lot_frontage['median'] )/ 2\n",
    "neigh_lot_frontage"
   ]
  },
  {
   "cell_type": "code",
   "execution_count": 119,
   "id": "5009de79",
   "metadata": {},
   "outputs": [],
   "source": [
    "# transformation into medians\n",
    "all_data['LotFrontage'] = all_data.groupby('Neighborhood')['LotFrontage'].transform(lambda x: x.fillna(x.median()))"
   ]
  },
  {
   "cell_type": "markdown",
   "id": "ded288e3",
   "metadata": {},
   "source": [
    "Transformation of some numerical variables that are actually categorical."
   ]
  },
  {
   "cell_type": "code",
   "execution_count": 120,
   "id": "e5a9aed0",
   "metadata": {},
   "outputs": [],
   "source": [
    "def convert_to_string(df, columns):\n",
    "    df[columns] = df[columns].astype(str)\n",
    "    return df"
   ]
  },
  {
   "cell_type": "code",
   "execution_count": 121,
   "id": "399cbabe",
   "metadata": {},
   "outputs": [],
   "source": [
    "num_to_categ_features = ['MSSubClass', 'OverallCond']#, 'YrSold', 'MoSold']\n",
    "\n",
    "all_data = convert_to_string(all_data, columns = num_to_categ_features)"
   ]
  },
  {
   "cell_type": "markdown",
   "id": "8bf091ae",
   "metadata": {},
   "source": [
    "#Replacing missing values in the rest of numerical columns\n",
    "\n",
    "For the other numerical data I will also estimate them according to their statistics and for that I will use SimpleImputer object from sklearn library. For columns: BsmtFinSF1, BsmtFinSF2, BsmtUnfSF, BsmtFullBath and BsmtHalfBath , MasVnrArea I will fill Nan values with constant = 0 and for the rest with median."
   ]
  },
  {
   "cell_type": "code",
   "execution_count": 122,
   "id": "98473264",
   "metadata": {},
   "outputs": [],
   "source": [
    "num_features = all_data.select_dtypes(include=['int64','float64']).columns\n",
    "num_features_to_constant = ['BsmtFinSF1', 'BsmtFinSF2', 'BsmtFullBath', 'BsmtHalfBath', \"MasVnrArea\"] \n",
    "num_features_to_median = [feature for feature in num_features if feature not in num_features_to_constant + [\"SalePrice\"]]"
   ]
  },
  {
   "cell_type": "code",
   "execution_count": 123,
   "id": "5339941e",
   "metadata": {},
   "outputs": [],
   "source": [
    "# Generating numerical features as input to DataFrameMapper.  \n",
    "numeric_features_median = sklearn_pandas.gen_features(columns=[num_features_to_median], \n",
    "                                               classes=[{'class': SimpleImputer, \n",
    "                                                         'strategy': 'median', \n",
    "                                                         'missing_values' : np.nan}])\n",
    "\n",
    "numeric_features_zero = sklearn_pandas.gen_features(columns=[num_features_to_constant], \n",
    "                                               classes=[{'class': SimpleImputer, \n",
    "                                                         'strategy': 'constant',\n",
    "                                                         'fill_value' : 0, \n",
    "                                                         'missing_values' : np.nan}])\n",
    "\n",
    "missing_val_imputer = sklearn_pandas.DataFrameMapper(numeric_features_median + numeric_features_zero)\n",
    "\n",
    "# Fitting\n",
    "imputed_median = missing_val_imputer.fit(all_data)\n",
    "\n",
    "# Transformation\n",
    "imputed_features = imputed_median.transform(all_data)\n",
    "\n",
    "# Putting into dataframe\n",
    "imputed_df = pd.DataFrame(imputed_features, index=all_data.index, columns=num_features_to_median + num_features_to_constant)"
   ]
  },
  {
   "cell_type": "markdown",
   "id": "314ecadb",
   "metadata": {},
   "source": [
    "#Categorical to numeral\n",
    "\n",
    "There is a lot of categorical features in data, so the next step is to transform them into numerical values."
   ]
  },
  {
   "cell_type": "code",
   "execution_count": 124,
   "id": "a7f6c919",
   "metadata": {},
   "outputs": [],
   "source": [
    "# Selecting category features\n",
    "cat_feats = all_data.select_dtypes(include=['object']).columns"
   ]
  },
  {
   "cell_type": "markdown",
   "id": "3900922c",
   "metadata": {},
   "source": [
    "According to data description (possible values for each feature) on Kaggle, I created a list of conversion values, specific for each column"
   ]
  },
  {
   "cell_type": "code",
   "execution_count": 125,
   "id": "bbe056c8",
   "metadata": {},
   "outputs": [],
   "source": [
    "none_conversion = [(\"MasVnrType\",\"None\"),\n",
    "                  (\"BsmtQual\",\"NA\"), \n",
    "                  (\"Electrical\", \"SBrkr\"),\n",
    "                  (\"BsmtCond\",\"TA\"),\n",
    "                  (\"BsmtExposure\",\"No\"),\n",
    "                  (\"BsmtFinType1\",\"No\"),\n",
    "                  (\"BsmtFinType2\",\"No\"),\n",
    "                  (\"CentralAir\",\"N\"),\n",
    "                  (\"Condition1\",\"Norm\"), \n",
    "                  (\"Condition2\",\"Norm\"),\n",
    "                  (\"ExterCond\",\"TA\"),\n",
    "                  (\"ExterQual\",\"TA\"), \n",
    "                  (\"FireplaceQu\",\"NA\"),\n",
    "                  (\"Functional\",\"Typ\"),\n",
    "                  (\"GarageType\",\"No\"), \n",
    "                  (\"GarageFinish\",\"No\"), \n",
    "                  (\"GarageQual\",\"NA\"), \n",
    "                  (\"GarageCond\",\"NA\"), \n",
    "                  (\"HeatingQC\",\"TA\"), \n",
    "                  (\"KitchenQual\",\"TA\"), \n",
    "                  (\"Functional\",\"Typ\"), \n",
    "                  (\"GarageType\",\"No\"), \n",
    "                  (\"GarageFinish\",\"No\"), \n",
    "                  (\"GarageQual\",\"No\"), \n",
    "                  (\"GarageCond\",\"No\"), \n",
    "                  (\"HeatingQC\",\"TA\"), \n",
    "                  (\"KitchenQual\",\"TA\"),\n",
    "                  (\"MSZoning\", \"None\"),\n",
    "                  (\"Exterior1st\", \"VinylSd\"), \n",
    "                  (\"Exterior2nd\", \"VinylSd\"), \n",
    "                  (\"SaleType\", \"WD\")]"
   ]
  },
  {
   "cell_type": "markdown",
   "id": "32ce315f",
   "metadata": {},
   "source": [
    "I implemented the none_transform function which converts missing categorical values into specific strings from the none_conversion dictionary."
   ]
  },
  {
   "cell_type": "code",
   "execution_count": 126,
   "id": "468dc71f",
   "metadata": {},
   "outputs": [],
   "source": [
    "def none_transform(df, conversion_list):\n",
    "    ''' Function that converts missing categorical values \n",
    "    into specific strings according to \"conversion_list\" \n",
    "    \n",
    "    Returns the dataframe after transformation.\n",
    "    '''\n",
    "    for col, new_str in conversion_list:\n",
    "        df.loc[:, col] = df.loc[:, col].fillna(new_str)\n",
    "    return df"
   ]
  },
  {
   "cell_type": "code",
   "execution_count": 127,
   "id": "cb2492b9",
   "metadata": {},
   "outputs": [],
   "source": [
    "# Applying the \"none_transform\" function \n",
    "all_data = none_transform(all_data, none_conversion)"
   ]
  },
  {
   "cell_type": "code",
   "execution_count": 128,
   "id": "bf47d4e9",
   "metadata": {},
   "outputs": [
    {
     "data": {
      "text/plain": [
       "78"
      ]
     },
     "execution_count": 128,
     "metadata": {},
     "output_type": "execute_result"
    }
   ],
   "source": [
    "len(all_data.columns)"
   ]
  },
  {
   "cell_type": "markdown",
   "id": "bcb197ac",
   "metadata": {},
   "source": [
    "#Transformation of skewed features\n",
    "\n",
    "As for linear models preferable are normally distributed data, I am transforming the skewed features to make them more normally distributed."
   ]
  },
  {
   "cell_type": "code",
   "execution_count": 129,
   "id": "42b84177",
   "metadata": {},
   "outputs": [
    {
     "name": "stdout",
     "output_type": "stream",
     "text": [
      "\n",
      "Highly skewed features: \n",
      "\n",
      "['LotFrontage', 'LotArea', 'MasVnrArea', 'BsmtFinSF1', 'BsmtFinSF2', 'BsmtUnfSF', 'TotalBsmtSF', '1stFlrSF', '2ndFlrSF', 'LowQualFinSF', 'GrLivArea', 'BsmtFullBath', 'BsmtHalfBath', 'HalfBath', 'KitchenAbvGr', 'TotRmsAbvGrd', 'Fireplaces', 'WoodDeckSF', 'OpenPorchSF', 'EnclosedPorch', '3SsnPorch', 'ScreenPorch', 'PoolArea', 'MiscVal']\n"
     ]
    }
   ],
   "source": [
    "# collecting the numeric features without considering SalePrice\n",
    "numeric_features = [feat for feat in num_features if feat not in ['SalePrice']] \n",
    "\n",
    "# selecting columns with skew more than 0.5\n",
    "skewed_features = all_data[num_features].apply(lambda x: x.dropna().skew())\n",
    "skewed_features = skewed_features[skewed_features > 0.5].index\n",
    "print(\"\\nHighly skewed features: \\n\\n{}\".format(skewed_features.tolist()))"
   ]
  },
  {
   "cell_type": "code",
   "execution_count": 130,
   "id": "86f30b1d",
   "metadata": {},
   "outputs": [],
   "source": [
    "# Applying log-transformation \n",
    "# all_data[skewed_features] = np.log1p(all_data[skewed_features])# test_df[skewed_features] = np.log1p(test_df[skewed_features])"
   ]
  },
  {
   "cell_type": "code",
   "execution_count": 131,
   "id": "d4e1dbfb",
   "metadata": {},
   "outputs": [],
   "source": [
    "class OrderedLabelTransformer(BaseEstimator, TransformerMixin):\n",
    "    orderDict = {\"NA\" : 0, \"Po\" : 1, \"Fa\" : 2, \"TA\" : 3, \"Gd\" : 4, \"Ex\" : 5}\n",
    "    \n",
    "    @staticmethod\n",
    "    def get_dict(X):\n",
    "        FirstDict = {\"Po\" : 0, \"Fa\" : 1, \"TA\" : 2, \"Gd\" : 3, \"Ex\" : 4}\n",
    "        SecondDict = {\"NA\" : 0, \"Po\" : 1, \"Fa\" : 2, \"TA\" : 3, \"Gd\" : 4, \"Ex\" : 5}\n",
    "        ThirdDict = {\"NA\" : 0, \"Fa\" : 1, \"TA\" : 2, \"Gd\" : 3, \"Ex\" : 4}\n",
    "        for d in [FirstDict, SecondDict, ThirdDict]:\n",
    "            if set(X) == set(d): \n",
    "                return d\n",
    "    \n",
    "    def fit(self, X, y=None):\n",
    "        return self\n",
    "    \n",
    "    def transform(self, X):\n",
    "        def get_label(t):\n",
    "            return self.orderDict[t]\n",
    "        return np.array([get_label(n) for n in X])"
   ]
  },
  {
   "cell_type": "markdown",
   "id": "67ac87ba",
   "metadata": {},
   "source": [
    "Some Neighborhood seems to be more expensive than the others so..:"
   ]
  },
  {
   "cell_type": "code",
   "execution_count": 132,
   "id": "b79be1bf",
   "metadata": {},
   "outputs": [],
   "source": [
    "class NeighborhoodTransformer(BaseEstimator, TransformerMixin):\n",
    "    neighborhoodsmap = {'StoneBr' : 2, 'NridgHt' : 2, 'NoRidge': 2, \n",
    "                        'MeadowV' : 0, 'IDOTRR' : 0, 'BrDale' : 0 ,\n",
    "                        'CollgCr': 1, 'Veenker' : 1, 'Crawfor' : 1,\n",
    "                        'Mitchel' : 1, 'Somerst' : 1, 'NWAmes' : 1,\n",
    "                        'OldTown' : 1, 'BrkSide' : 1, 'Sawyer' : 1, \n",
    "                        'NAmes' : 1, 'SawyerW' : 1, 'Edwards' : 1,\n",
    "                        'Timber' : 1, 'Gilbert' : 1, 'ClearCr' : 1,\n",
    "                        'NPkVill' : 1, 'Blmngtn' : 1, 'SWISU' : 1,\n",
    "                        'Blueste': 1}\n",
    "\n",
    "    def fit(self, X, y=None):\n",
    "        return self\n",
    "    \n",
    "    def transform(self, X):\n",
    "        def get_label(t):\n",
    "            return self.neighborhoodsmap[t]\n",
    "        return np.array([get_label(n) for [n] in X])"
   ]
  },
  {
   "cell_type": "markdown",
   "id": "7fb34b96",
   "metadata": {},
   "source": [
    "As I implemented previously specific transformers for categorical data, I will run the whole pipeline for them."
   ]
  },
  {
   "cell_type": "code",
   "execution_count": 133,
   "id": "0318aa73",
   "metadata": {},
   "outputs": [],
   "source": [
    "# Generating features:\n",
    "order_feats = [\"ExterQual\", \"ExterCond\", \"HeatingQC\", \"KitchenQual\", \"BsmtQual\", \n",
    "               \"BsmtCond\", \"FireplaceQu\", \"GarageQual\", \"GarageCond\"]\n",
    "\n",
    "original_features_df = all_data[order_feats + ['Neighborhood']] # we need to save original values for one-hot encoding\n",
    "\n",
    "order_features = sklearn_pandas.gen_features(order_feats, [OrderedLabelTransformer])\n",
    "neighb_features = [(['Neighborhood'], [NeighborhoodTransformer()])]\n",
    "\n",
    "# Pipeline\n",
    "label_encoder = sklearn_pandas.DataFrameMapper(neighb_features + order_features)\n",
    "\n",
    "# The list with order of column names\n",
    "cols = [\"Neighborhood\"] + order_feats\n",
    "\n",
    "# Transformation both train and test set\n",
    "transformed_feats = label_encoder.fit_transform(all_data)\n",
    "\n",
    "# Putting transformed features into dataframe\n",
    "transformed_df = pd.DataFrame(transformed_feats, index=all_data.index, columns=cols)"
   ]
  },
  {
   "cell_type": "code",
   "execution_count": 134,
   "id": "5d010fdd",
   "metadata": {},
   "outputs": [
    {
     "data": {
      "text/plain": [
       "(2919, 10)"
      ]
     },
     "execution_count": 134,
     "metadata": {},
     "output_type": "execute_result"
    }
   ],
   "source": [
    "original_features_df.shape"
   ]
  },
  {
   "cell_type": "code",
   "execution_count": 135,
   "id": "68b628cf",
   "metadata": {},
   "outputs": [],
   "source": [
    "# feature without any transformation till now\n",
    "rest_features = set(pd.concat([imputed_df, original_features_df],axis=1).columns).symmetric_difference(set(all_data.columns))\n",
    "rest_features_df = all_data[list(rest_features)]"
   ]
  },
  {
   "cell_type": "code",
   "execution_count": 136,
   "id": "d221fe69",
   "metadata": {},
   "outputs": [],
   "source": [
    "all_data = pd.concat([imputed_df, original_features_df, rest_features_df],axis=1)"
   ]
  },
  {
   "cell_type": "code",
   "execution_count": 137,
   "id": "d1201f81",
   "metadata": {},
   "outputs": [
    {
     "data": {
      "text/plain": [
       "(2919, 78)"
      ]
     },
     "execution_count": 137,
     "metadata": {},
     "output_type": "execute_result"
    }
   ],
   "source": [
    "all_data.shape"
   ]
  },
  {
   "cell_type": "markdown",
   "id": "4c262ad3",
   "metadata": {},
   "source": [
    "\n",
    "#Feature Engineering\n",
    "\n",
    "##Creating new features\n",
    "\n",
    "These features seem to be useful for house price prediction. As they are not contained in kaggle dataset I decided to create them from other informations.\n",
    "\n",
    "    \"TotalSqrtFeet\" - Total Live Area\n",
    "    \"TotalBaths\" - Total Area for Bathrooms"
   ]
  },
  {
   "cell_type": "code",
   "execution_count": 138,
   "id": "5d337375",
   "metadata": {},
   "outputs": [],
   "source": [
    "# Total Squere Feet for house\n",
    "all_data[\"TotalSqrtFeet\"] = all_data[\"GrLivArea\"] + all_data[\"TotalBsmtSF\"]\n",
    "# test_df[\"TotalSqrtFeet\"] = test_df[\"GrLivArea\"] + test_df[\"TotalBsmtSF\"]\n",
    "\n",
    "# Total number of bathrooms\n",
    "all_data[\"TotalBaths\"] = all_data[\"BsmtFullBath\"] + (all_data[\"BsmtHalfBath\"]  * .5) + all_data[\"FullBath\"] + (all_data[\"HalfBath\"]* .5)\n",
    "# test_df[\"TotalBaths\"] = test_df[\"BsmtFullBath\"] + (test_df[\"BsmtHalfBath\"]  * .5) + test_df[\"FullBath\"] + (test_df[\"HalfBath\"]* .5)"
   ]
  },
  {
   "cell_type": "code",
   "execution_count": 139,
   "id": "8e6a5522",
   "metadata": {},
   "outputs": [],
   "source": [
    "# If the house has a garage\n",
    "all_data['Isgarage'] = all_data['GarageArea'].apply(lambda x: 1 if x > 0 else 0)\n",
    "\n",
    "# If the house has a fireplace\n",
    "all_data['Isfireplace'] = all_data['Fireplaces'].apply(lambda x: 1 if x > 0 else 0)\n",
    "\n",
    "# If the house has a pool\n",
    "all_data['Ispool'] = all_data['PoolArea'].apply(lambda x: 1 if x > 0 else 0)\n",
    "\n",
    "# If the house has second floor\n",
    "all_data['Issecondfloor'] = all_data['2ndFlrSF'].apply(lambda x: 1 if x > 0 else 0)\n",
    "\n",
    "# If the house has Open Porch\n",
    "all_data['IsOpenPorch'] = all_data['OpenPorchSF'].apply(lambda x: 1 if x > 0 else 0)\n",
    "\n",
    "# If the house has Wood Deck\n",
    "all_data['IsWoodDeck'] = all_data['WoodDeckSF'].apply(lambda x: 1 if x > 0 else 0)"
   ]
  },
  {
   "cell_type": "markdown",
   "id": "b13f4485",
   "metadata": {},
   "source": [
    "One-hot encoding"
   ]
  },
  {
   "cell_type": "code",
   "execution_count": 140,
   "id": "a89969a4",
   "metadata": {},
   "outputs": [
    {
     "data": {
      "text/plain": [
       "(2919, 324)"
      ]
     },
     "execution_count": 140,
     "metadata": {},
     "output_type": "execute_result"
    }
   ],
   "source": [
    "all_data = all_data.drop([\"SalePrice\"], axis = 1)\n",
    "\n",
    "hot_one_features = pd.get_dummies(all_data).reset_index(drop=True)\n",
    "hot_one_features.shape"
   ]
  },
  {
   "cell_type": "code",
   "execution_count": 141,
   "id": "885e9d25",
   "metadata": {},
   "outputs": [],
   "source": [
    "all_data = pd.concat([transformed_df, hot_one_features],axis=1)"
   ]
  },
  {
   "cell_type": "markdown",
   "id": "9be04878",
   "metadata": {},
   "source": [
    "#Splitting into train/test"
   ]
  },
  {
   "cell_type": "code",
   "execution_count": 142,
   "id": "d091f4f1",
   "metadata": {},
   "outputs": [
    {
     "name": "stdout",
     "output_type": "stream",
     "text": [
      "True\n"
     ]
    }
   ],
   "source": [
    "train_preprocessed = all_data.iloc[:len(train),:]\n",
    "test_preprocessed = all_data.iloc[len(train_preprocessed):,:]\n",
    "print(len(test_preprocessed) == len(test))"
   ]
  },
  {
   "cell_type": "markdown",
   "id": "978faea8",
   "metadata": {},
   "source": [
    "#Modelization"
   ]
  },
  {
   "cell_type": "code",
   "execution_count": 143,
   "id": "f32a852d",
   "metadata": {},
   "outputs": [],
   "source": [
    "X_train = train_preprocessed"
   ]
  },
  {
   "cell_type": "code",
   "execution_count": 144,
   "id": "bd8aacea",
   "metadata": {},
   "outputs": [],
   "source": [
    "from sklearn.linear_model import Ridge, RidgeCV, ElasticNet, LassoCV, LassoLarsCV\n",
    "from sklearn.model_selection import cross_val_score, KFold\n",
    "from sklearn.pipeline import make_pipeline\n",
    "from sklearn.preprocessing import RobustScaler\n",
    "from sklearn.ensemble import RandomForestRegressor, GradientBoostingRegressor\n",
    "from sklearn.model_selection import GridSearchCV\n",
    "import xgboost as xgb\n",
    "\n",
    "from sklearn.linear_model import ElasticNet, Lasso, ElasticNetCV\n",
    "from sklearn.ensemble import  GradientBoostingRegressor\n",
    "from sklearn.kernel_ridge import KernelRidge\n",
    "from sklearn.base import RegressorMixin\n",
    "import lightgbm as lgb"
   ]
  },
  {
   "cell_type": "code",
   "execution_count": 145,
   "id": "d961812c",
   "metadata": {},
   "outputs": [
    {
     "name": "stdout",
     "output_type": "stream",
     "text": [
      "Environment specification:\n",
      "\n",
      "sklearn 1.0.2\n",
      "xgboost 1.7.3\n",
      "lightgbm 3.3.4\n"
     ]
    }
   ],
   "source": [
    "print('Environment specification:\\n')\n",
    "for mod in sklearn, xgb, lgb:\n",
    "    print(mod.__name__, mod.__version__)"
   ]
  },
  {
   "cell_type": "markdown",
   "id": "e8db3729",
   "metadata": {},
   "source": [
    "#Defining scoring function"
   ]
  },
  {
   "cell_type": "code",
   "execution_count": 146,
   "id": "c0a40f02",
   "metadata": {},
   "outputs": [],
   "source": [
    "def rmse(model):\n",
    "    n_folds=5\n",
    "    kfold = KFold(n_folds, random_state=42, shuffle=True).get_n_splits(X_train)\n",
    "    rmse_score = np.sqrt(-cross_val_score(model, X_train, y_train, scoring = \"neg_mean_squared_error\", cv = kfold, verbose = -1, n_jobs=-1))\n",
    "    return(np.mean(rmse_score))"
   ]
  },
  {
   "cell_type": "markdown",
   "id": "5d7c34aa",
   "metadata": {},
   "source": [
    "#Linear Regression"
   ]
  },
  {
   "cell_type": "code",
   "execution_count": 147,
   "id": "658ad84d",
   "metadata": {},
   "outputs": [
    {
     "name": "stdout",
     "output_type": "stream",
     "text": [
      "Mean Squared Error = 0.00858436\n"
     ]
    },
    {
     "name": "stderr",
     "output_type": "stream",
     "text": [
      "[Parallel(n_jobs=-1)]: Using backend LokyBackend with 16 concurrent workers.\n"
     ]
    },
    {
     "name": "stdout",
     "output_type": "stream",
     "text": [
      "RMSE score for Linear Regression: 0.160\n"
     ]
    },
    {
     "name": "stderr",
     "output_type": "stream",
     "text": [
      "[Parallel(n_jobs=-1)]: Done   2 out of   5 | elapsed:    2.5s remaining:    3.8s\n",
      "[Parallel(n_jobs=-1)]: Done   5 out of   5 | elapsed:    2.5s finished\n"
     ]
    }
   ],
   "source": [
    "lr_model = make_pipeline(RobustScaler(), LinearRegression()) #TODO: why Robust Scaler?\n",
    "\n",
    "lr_model.fit(X_train, y_train)\n",
    "y_train_pred = lr_model.predict(X_train)\n",
    "MSE_train = np.mean((y_train_pred - y_train)**2)\n",
    "\n",
    "print(\"Mean Squared Error = {:.8f}\".format(MSE_train))\n",
    "print(\"RMSE score for Linear Regression: {:.3f}\".format(rmse(lr_model)))"
   ]
  },
  {
   "cell_type": "code",
   "execution_count": 148,
   "id": "61bc1a60",
   "metadata": {},
   "outputs": [
    {
     "data": {
      "text/plain": [
       "Text(0.5, 1.0, 'Prices vs. Predicted Prices')"
      ]
     },
     "execution_count": 148,
     "metadata": {},
     "output_type": "execute_result"
    },
    {
     "data": {
      "image/png": "[encoded data removed]",
      "text/plain": [
       "<Figure size 1000x600 with 1 Axes>"
      ]
     },
     "metadata": {},
     "output_type": "display_data"
    }
   ],
   "source": [
    "sns.set(font_scale=1.5)\n",
    "plt.figure(figsize=(10,6))\n",
    "sns.scatterplot(y_train, y_train_pred)\n",
    "plt.xlabel(\"Prices\")\n",
    "plt.ylabel(\"Predicted prices\")\n",
    "plt.title(\"Prices vs. Predicted Prices\")"
   ]
  },
  {
   "cell_type": "code",
   "execution_count": 149,
   "id": "9883572e",
   "metadata": {},
   "outputs": [
    {
     "data": {
      "text/plain": [
       "Text(0, 0.5, 'Residuals')"
      ]
     },
     "execution_count": 149,
     "metadata": {},
     "output_type": "execute_result"
    },
    {
     "data": {
      "image/png": "[encoded data removed]",
      "text/plain": [
       "<Figure size 1000x600 with 1 Axes>"
      ]
     },
     "metadata": {},
     "output_type": "display_data"
    }
   ],
   "source": [
    "# Residual plot - result should be randomly located around the 0 value\n",
    "plt.figure(figsize=(10,6))\n",
    "sns.scatterplot(y_train_pred, y_train_pred - y_train)\n",
    "plt.title(\"Residual Plot\")\n",
    "plt.xlabel(\"Predicted values\")\n",
    "plt.ylabel(\"Residuals\")"
   ]
  },
  {
   "cell_type": "markdown",
   "id": "972cdcf7",
   "metadata": {},
   "source": [
    "#LASSO model"
   ]
  },
  {
   "cell_type": "code",
   "execution_count": 175,
   "id": "ff7c4198",
   "metadata": {},
   "outputs": [
    {
     "name": "stdout",
     "output_type": "stream",
     "text": [
      "Mean Squared Error = 0.01197432\n"
     ]
    },
    {
     "name": "stderr",
     "output_type": "stream",
     "text": [
      "[Parallel(n_jobs=-1)]: Using backend LokyBackend with 16 concurrent workers.\n"
     ]
    },
    {
     "name": "stdout",
     "output_type": "stream",
     "text": [
      "RMSE score for LASSO: 0.135\n"
     ]
    },
    {
     "name": "stderr",
     "output_type": "stream",
     "text": [
      "[Parallel(n_jobs=-1)]: Done   2 out of   5 | elapsed:    2.9s remaining:    4.3s\n",
      "[Parallel(n_jobs=-1)]: Done   5 out of   5 | elapsed:    3.0s finished\n"
     ]
    }
   ],
   "source": [
    "lasso_model = make_pipeline(RobustScaler(), \n",
    "                         LassoCV(alphas = [0.0004, 0.0005, 0.0006],\n",
    "                                 random_state = 0,\n",
    "                                 cv = 10))\n",
    "\n",
    "lasso_model.fit(X_train, y_train)\n",
    "\n",
    "y_train_pred = lasso_model.predict(X_train)\n",
    "MSE_train = np.mean((y_train_pred - y_train)**2)\n",
    "\n",
    "# print(\"Best alpha : {}\", lasso_model.alpha_)\n",
    "print(\"Mean Squared Error = {:.8f}\".format(MSE_train))\n",
    "print(\"RMSE score for LASSO: {:.3f}\".format(rmse(lasso_model)))"
   ]
  },
  {
   "cell_type": "code",
   "execution_count": 151,
   "id": "2a9fb1db",
   "metadata": {},
   "outputs": [
    {
     "data": {
      "text/plain": [
       "<function matplotlib.pyplot.show(close=None, block=None)>"
      ]
     },
     "execution_count": 151,
     "metadata": {},
     "output_type": "execute_result"
    },
    {
     "data": {
      "image/png": "[encoded data removed]",
      "text/plain": [
       "<Figure size 1000x600 with 1 Axes>"
      ]
     },
     "metadata": {},
     "output_type": "display_data"
    }
   ],
   "source": [
    "# Plotting predictions\n",
    "plt.figure(figsize=(10,6))\n",
    "sns.scatterplot(y_train_pred, y_train)\n",
    "plt.title(\"Linear regression with Lasso regularization\")\n",
    "plt.xlabel(\"Predicted Prices\")\n",
    "plt.ylabel(\"Real  Prices\")\n",
    "plt.show"
   ]
  },
  {
   "cell_type": "markdown",
   "id": "ef5ef735",
   "metadata": {},
   "source": [
    "#GradientBoostingRegressor"
   ]
  },
  {
   "cell_type": "code",
   "execution_count": 152,
   "id": "88459f43",
   "metadata": {},
   "outputs": [
    {
     "data": {
      "text/plain": [
       "GridSearchCV(cv=5, estimator=GradientBoostingRegressor(random_state=0),\n",
       "             n_jobs=1,\n",
       "             param_grid={'learning_rate': [0.05], 'max_depth': [5],\n",
       "                         'max_features': [13], 'n_estimators': [2500],\n",
       "                         'random_state': [5], 'subsample': [0.8]})"
      ]
     },
     "execution_count": 152,
     "metadata": {},
     "output_type": "execute_result"
    }
   ],
   "source": [
    "gbr = GradientBoostingRegressor(random_state=0)\n",
    "param_grid = {'n_estimators': [2500],\n",
    "              'max_features': [13],\n",
    "              'max_depth': [5],\n",
    "              'learning_rate': [0.05],\n",
    "              'subsample': [0.8],\n",
    "             'random_state' : [5]}\n",
    "                              \n",
    "gb_model = GridSearchCV(estimator=gbr, param_grid=param_grid, n_jobs=1, cv=5)\n",
    "gb_model.fit(X_train, y_train)"
   ]
  },
  {
   "cell_type": "code",
   "execution_count": 153,
   "id": "71f7dc3c",
   "metadata": {},
   "outputs": [
    {
     "name": "stdout",
     "output_type": "stream",
     "text": [
      "Best Parameters: {'learning_rate': 0.05, 'max_depth': 5, 'max_features': 13, 'n_estimators': 2500, 'random_state': 5, 'subsample': 0.8}\n",
      "Mean Squared Error = 0.00000937\n"
     ]
    },
    {
     "name": "stderr",
     "output_type": "stream",
     "text": [
      "[Parallel(n_jobs=-1)]: Using backend LokyBackend with 16 concurrent workers.\n",
      "[Parallel(n_jobs=-1)]: Done   2 out of   5 | elapsed:   13.9s remaining:   20.9s\n"
     ]
    },
    {
     "name": "stdout",
     "output_type": "stream",
     "text": [
      "RMSE score for GB: 0.121\n"
     ]
    },
    {
     "name": "stderr",
     "output_type": "stream",
     "text": [
      "[Parallel(n_jobs=-1)]: Done   5 out of   5 | elapsed:   14.5s finished\n"
     ]
    }
   ],
   "source": [
    "y_train_pred = gb_model.predict(X_train)\n",
    "MSE_train = np.mean((y_train_pred - y_train)**2)\n",
    "print('Best Parameters: {}'.format(gb_model.best_params_))\n",
    "print(\"Mean Squared Error = {:.8f}\".format(MSE_train))\n",
    "print(\"RMSE score for GB: {:.3f}\".format(rmse(gb_model)))"
   ]
  },
  {
   "cell_type": "markdown",
   "id": "715b4755",
   "metadata": {},
   "source": [
    "#XGB Regressor"
   ]
  },
  {
   "cell_type": "code",
   "execution_count": 154,
   "id": "b9e424cb",
   "metadata": {},
   "outputs": [
    {
     "name": "stdout",
     "output_type": "stream",
     "text": [
      "\n",
      "\n",
      "Best Parameters: {'colsample_bytree': 0.45, 'learning_rate': 0.05, 'max_depth': 3, 'n_estimators': 2000, 'subsample': 0.8}\n",
      "Mean Squared Error = 0.00049037\n"
     ]
    },
    {
     "name": "stderr",
     "output_type": "stream",
     "text": [
      "[Parallel(n_jobs=-1)]: Using backend LokyBackend with 16 concurrent workers.\n",
      "[Parallel(n_jobs=-1)]: Done   2 out of   5 | elapsed:  8.9min remaining: 13.3min\n"
     ]
    },
    {
     "name": "stdout",
     "output_type": "stream",
     "text": [
      "RMSE score for XGB: 0.119\n"
     ]
    },
    {
     "name": "stderr",
     "output_type": "stream",
     "text": [
      "[Parallel(n_jobs=-1)]: Done   5 out of   5 | elapsed:  9.1min finished\n"
     ]
    }
   ],
   "source": [
    "xgbreg = xgb.XGBRegressor(seed=0)\n",
    "param_grid2 = {'n_estimators': [2000], \n",
    "              'learning_rate': [0.05],\n",
    "              'max_depth': [3, 7],\n",
    "              'subsample': [0.8],\n",
    "              'colsample_bytree': [0.45, 0.75]}\n",
    "    \n",
    "xgb_model = GridSearchCV(estimator=xgbreg, param_grid=param_grid2, n_jobs=1, cv=10)\n",
    "xgb_model.fit(X_train, y_train)\n",
    "\n",
    "y_train_pred = xgb_model.predict(X_train)\n",
    "MSE_train = np.mean((y_train_pred - y_train)**2)\n",
    "\n",
    "print('\\n\\nBest Parameters: {}'.format(xgb_model.best_params_))\n",
    "print(\"Mean Squared Error = {:.8f}\".format(MSE_train))\n",
    "print(\"RMSE score for XGB: {:.3f}\".format(rmse(xgb_model)))"
   ]
  },
  {
   "cell_type": "markdown",
   "id": "04af5c2b",
   "metadata": {},
   "source": [
    "#ElasticNet"
   ]
  },
  {
   "cell_type": "code",
   "execution_count": 155,
   "id": "63bf0615",
   "metadata": {},
   "outputs": [],
   "source": [
    "en_model = ElasticNetCV(alphas = [0.0001, 0.0003, 0.0004, 0.0006], \n",
    "                        l1_ratio = [.9, .92], \n",
    "                        random_state = 0,\n",
    "                        cv=10)"
   ]
  },
  {
   "cell_type": "code",
   "execution_count": 167,
   "id": "f71b5d82",
   "metadata": {},
   "outputs": [],
   "source": [
    "en_model.fit(X_train, y_train)\n",
    "\n",
    "y_train_pred = en_model.predict(X_train)\n",
    "MSE_train = np.mean((y_train_pred - y_train)**2)"
   ]
  },
  {
   "cell_type": "code",
   "execution_count": 157,
   "id": "a5421138",
   "metadata": {},
   "outputs": [
    {
     "name": "stdout",
     "output_type": "stream",
     "text": [
      "Mean Squared Error = 0.01171991\n"
     ]
    },
    {
     "name": "stderr",
     "output_type": "stream",
     "text": [
      "[Parallel(n_jobs=-1)]: Using backend LokyBackend with 16 concurrent workers.\n",
      "[Parallel(n_jobs=-1)]: Done   2 out of   5 | elapsed:    3.5s remaining:    5.2s\n"
     ]
    },
    {
     "name": "stdout",
     "output_type": "stream",
     "text": [
      "RMSE score for ElasticNet: 0.136\n"
     ]
    },
    {
     "name": "stderr",
     "output_type": "stream",
     "text": [
      "[Parallel(n_jobs=-1)]: Done   5 out of   5 | elapsed:    4.3s finished\n"
     ]
    }
   ],
   "source": [
    "print(\"Mean Squared Error = {:.8f}\".format(MSE_train))\n",
    "print(\"RMSE score for ElasticNet: {:.3f}\".format(rmse(en_model)))"
   ]
  },
  {
   "cell_type": "code",
   "execution_count": 158,
   "id": "d6513656",
   "metadata": {},
   "outputs": [
    {
     "name": "stdout",
     "output_type": "stream",
     "text": [
      "Mean Squared Error = 0.00528693\n"
     ]
    },
    {
     "name": "stderr",
     "output_type": "stream",
     "text": [
      "[Parallel(n_jobs=-1)]: Using backend LokyBackend with 16 concurrent workers.\n"
     ]
    },
    {
     "name": "stdout",
     "output_type": "stream",
     "text": [
      "RMSE score for LGBMRegressor: 0.1237\n"
     ]
    },
    {
     "name": "stderr",
     "output_type": "stream",
     "text": [
      "[Parallel(n_jobs=-1)]: Done   2 out of   5 | elapsed:    1.8s remaining:    2.8s\n",
      "[Parallel(n_jobs=-1)]: Done   5 out of   5 | elapsed:    2.0s finished\n"
     ]
    }
   ],
   "source": [
    "lgb_model = lgb.LGBMRegressor(objective='regression', num_leaves=5,\n",
    "                              learning_rate=0.05, n_estimators=800,\n",
    "                              max_bin = 55, bagging_fraction = 0.8,\n",
    "                              bagging_freq = 5, feature_fraction = 0.2,\n",
    "                              feature_fraction_seed=9, bagging_seed=9,\n",
    "                              min_data_in_leaf =6, min_sum_hessian_in_leaf = 11)\n",
    "\n",
    "lgb_model.fit(X_train, y_train)\n",
    "\n",
    "y_train_pred = lgb_model.predict(X_train)\n",
    "MSE_train = np.mean((y_train_pred - y_train)**2)\n",
    "\n",
    "print(\"Mean Squared Error = {:.8f}\".format(MSE_train))\n",
    "print(\"RMSE score for LGBMRegressor: {:.4f}\".format(rmse(lgb_model)))"
   ]
  },
  {
   "cell_type": "code",
   "execution_count": 159,
   "id": "c1c08d9d",
   "metadata": {},
   "outputs": [
    {
     "name": "stderr",
     "output_type": "stream",
     "text": [
      "[Parallel(n_jobs=3)]: Using backend LokyBackend with 3 concurrent workers.\n",
      "[Parallel(n_jobs=3)]: Done   3 out of   3 | elapsed:    1.5s finished\n",
      "[Parallel(n_jobs=3)]: Using backend LokyBackend with 3 concurrent workers.\n",
      "[Parallel(n_jobs=3)]: Done   3 out of   3 | elapsed:    0.0s finished\n"
     ]
    },
    {
     "name": "stdout",
     "output_type": "stream",
     "text": [
      "Mean Squared Error (on training set) = 0.06780209\n"
     ]
    }
   ],
   "source": [
    "from sklearn.ensemble import BaggingRegressor\n",
    "from sklearn.linear_model import LinearRegression\n",
    "\n",
    "en_model = LinearRegression()\n",
    "model2 = BaggingRegressor(base_estimator=en_model, n_estimators=50, \n",
    "                         max_samples=30, max_features=200, verbose=3, n_jobs=3)\n",
    "model2.fit(X_train, y_train)\n",
    "\n",
    "y_train_pred = model2.predict(X_train)\n",
    "MSE_train = np.mean((y_train_pred - y_train)**2)\n",
    "\n",
    "print(\"Mean Squared Error (on training set) = {:.8f}\".format(MSE_train)) "
   ]
  },
  {
   "cell_type": "code",
   "execution_count": 160,
   "id": "cd780140",
   "metadata": {},
   "outputs": [
    {
     "name": "stderr",
     "output_type": "stream",
     "text": [
      "[Parallel(n_jobs=-1)]: Using backend LokyBackend with 16 concurrent workers.\n"
     ]
    },
    {
     "name": "stdout",
     "output_type": "stream",
     "text": [
      "RMSE score for BaggingRegressor: 0.1677\n"
     ]
    },
    {
     "name": "stderr",
     "output_type": "stream",
     "text": [
      "[Parallel(n_jobs=-1)]: Done   2 out of   5 | elapsed:    3.2s remaining:    4.9s\n",
      "[Parallel(n_jobs=-1)]: Done   5 out of   5 | elapsed:    3.3s finished\n"
     ]
    }
   ],
   "source": [
    "print(\"RMSE score for BaggingRegressor: {:.4f}\".format(rmse(model2)))"
   ]
  },
  {
   "cell_type": "markdown",
   "id": "c452425a",
   "metadata": {},
   "source": [
    "#Stacking"
   ]
  },
  {
   "cell_type": "code",
   "execution_count": 161,
   "id": "02741f2b",
   "metadata": {},
   "outputs": [
    {
     "name": "stdout",
     "output_type": "stream",
     "text": [
      "Requirement already satisfied: mlxtend in c:\\users\\yamin hossain\\anaconda3\\lib\\site-packages (0.21.0)\n",
      "Requirement already satisfied: setuptools in c:\\users\\yamin hossain\\anaconda3\\lib\\site-packages (from mlxtend) (63.4.1)\n",
      "Requirement already satisfied: scipy>=1.2.1 in c:\\users\\yamin hossain\\anaconda3\\lib\\site-packages (from mlxtend) (1.9.1)\n",
      "Requirement already satisfied: joblib>=0.13.2 in c:\\users\\yamin hossain\\anaconda3\\lib\\site-packages (from mlxtend) (1.1.0)\n",
      "Requirement already satisfied: scikit-learn>=1.0.2 in c:\\users\\yamin hossain\\anaconda3\\lib\\site-packages (from mlxtend) (1.0.2)\n",
      "Requirement already satisfied: pandas>=0.24.2 in c:\\users\\yamin hossain\\anaconda3\\lib\\site-packages (from mlxtend) (1.4.4)\n",
      "Requirement already satisfied: numpy>=1.16.2 in c:\\users\\yamin hossain\\anaconda3\\lib\\site-packages (from mlxtend) (1.21.5)\n",
      "Requirement already satisfied: matplotlib>=3.0.0 in c:\\users\\yamin hossain\\anaconda3\\lib\\site-packages (from mlxtend) (3.5.2)\n",
      "Requirement already satisfied: pillow>=6.2.0 in c:\\users\\yamin hossain\\anaconda3\\lib\\site-packages (from matplotlib>=3.0.0->mlxtend) (9.2.0)\n",
      "Requirement already satisfied: python-dateutil>=2.7 in c:\\users\\yamin hossain\\anaconda3\\lib\\site-packages (from matplotlib>=3.0.0->mlxtend) (2.8.2)\n",
      "Requirement already satisfied: kiwisolver>=1.0.1 in c:\\users\\yamin hossain\\anaconda3\\lib\\site-packages (from matplotlib>=3.0.0->mlxtend) (1.4.2)\n",
      "Requirement already satisfied: pyparsing>=2.2.1 in c:\\users\\yamin hossain\\anaconda3\\lib\\site-packages (from matplotlib>=3.0.0->mlxtend) (3.0.9)\n",
      "Requirement already satisfied: fonttools>=4.22.0 in c:\\users\\yamin hossain\\anaconda3\\lib\\site-packages (from matplotlib>=3.0.0->mlxtend) (4.25.0)\n",
      "Requirement already satisfied: cycler>=0.10 in c:\\users\\yamin hossain\\anaconda3\\lib\\site-packages (from matplotlib>=3.0.0->mlxtend) (0.11.0)\n",
      "Requirement already satisfied: packaging>=20.0 in c:\\users\\yamin hossain\\anaconda3\\lib\\site-packages (from matplotlib>=3.0.0->mlxtend) (21.3)\n",
      "Requirement already satisfied: pytz>=2020.1 in c:\\users\\yamin hossain\\anaconda3\\lib\\site-packages (from pandas>=0.24.2->mlxtend) (2022.1)\n",
      "Requirement already satisfied: threadpoolctl>=2.0.0 in c:\\users\\yamin hossain\\anaconda3\\lib\\site-packages (from scikit-learn>=1.0.2->mlxtend) (2.2.0)\n",
      "Requirement already satisfied: six>=1.5 in c:\\users\\yamin hossain\\anaconda3\\lib\\site-packages (from python-dateutil>=2.7->matplotlib>=3.0.0->mlxtend) (1.16.0)\n",
      "Note: you may need to restart the kernel to use updated packages.\n"
     ]
    }
   ],
   "source": [
    "pip install mlxtend"
   ]
  },
  {
   "cell_type": "code",
   "execution_count": 162,
   "id": "2c2bd8a0",
   "metadata": {},
   "outputs": [],
   "source": [
    "from mlxtend.regressor import StackingCVRegressor\n",
    "from sklearn.pipeline import make_pipeline"
   ]
  },
  {
   "cell_type": "code",
   "execution_count": 163,
   "id": "12c86b2f",
   "metadata": {},
   "outputs": [],
   "source": [
    "\n",
    "\n",
    "lasso_model = make_pipeline(RobustScaler(),\n",
    "                      LassoCV(max_iter=1e7, alphas = [0.0005],\n",
    "                              random_state = 42, cv=5))\n",
    "\n",
    "elasticnet_model = make_pipeline(RobustScaler(), \n",
    "                           ElasticNetCV(max_iter=1e7, alphas=[0.0005], \n",
    "                                        cv=5, l1_ratio=0.9))\n",
    "\n",
    "lgbm_model = make_pipeline(RobustScaler(),\n",
    "                        lgb.LGBMRegressor(objective='regression',num_leaves=5,\n",
    "                                      learning_rate=0.05, n_estimators=800,\n",
    "                                      max_bin = 55, bagging_fraction = 0.8,\n",
    "                                      bagging_freq = 5, feature_fraction = 0.23,\n",
    "                                      feature_fraction_seed = 9, bagging_seed=9,\n",
    "                                      min_data_in_leaf = 6, \n",
    "                                      min_sum_hessian_in_leaf = 11))\n",
    "\n",
    "xgboost_model = make_pipeline(RobustScaler(),\n",
    "                        xgb.XGBRegressor(learning_rate = 0.01, n_estimators=3400, \n",
    "                                     max_depth=3,min_child_weight=0 ,\n",
    "                                     gamma=0, subsample=0.7,\n",
    "                                     colsample_bytree=0.7,\n",
    "                                     objective= 'reg:linear',nthread=4,\n",
    "                                     scale_pos_weight=1,seed=27, \n",
    "                                     reg_alpha=0.00006))\n",
    "\n"
   ]
  },
  {
   "cell_type": "code",
   "execution_count": 164,
   "id": "613f8969",
   "metadata": {},
   "outputs": [],
   "source": [
    "stack_regressor = StackingCVRegressor(regressors=(lasso_model, elasticnet_model, xgboost_model, lgbm_model), \n",
    "                               meta_regressor=xgboost_model, use_features_in_secondary=True)"
   ]
  },
  {
   "cell_type": "code",
   "execution_count": 165,
   "id": "2bb6d6f6",
   "metadata": {},
   "outputs": [
    {
     "name": "stdout",
     "output_type": "stream",
     "text": [
      "[00:36:27] WARNING: C:/buildkite-agent/builds/buildkite-windows-cpu-autoscaling-group-i-08de971ced8a8cdc6-1/xgboost/xgboost-ci-windows/src/objective/regression_obj.cu:213: reg:linear is now deprecated in favor of reg:squarederror.\n",
      "[00:36:34] WARNING: C:/buildkite-agent/builds/buildkite-windows-cpu-autoscaling-group-i-08de971ced8a8cdc6-1/xgboost/xgboost-ci-windows/src/objective/regression_obj.cu:213: reg:linear is now deprecated in favor of reg:squarederror.\n",
      "[00:36:40] WARNING: C:/buildkite-agent/builds/buildkite-windows-cpu-autoscaling-group-i-08de971ced8a8cdc6-1/xgboost/xgboost-ci-windows/src/objective/regression_obj.cu:213: reg:linear is now deprecated in favor of reg:squarederror.\n",
      "[00:36:46] WARNING: C:/buildkite-agent/builds/buildkite-windows-cpu-autoscaling-group-i-08de971ced8a8cdc6-1/xgboost/xgboost-ci-windows/src/objective/regression_obj.cu:213: reg:linear is now deprecated in favor of reg:squarederror.\n",
      "[00:36:52] WARNING: C:/buildkite-agent/builds/buildkite-windows-cpu-autoscaling-group-i-08de971ced8a8cdc6-1/xgboost/xgboost-ci-windows/src/objective/regression_obj.cu:213: reg:linear is now deprecated in favor of reg:squarederror.\n",
      "[LightGBM] [Warning] feature_fraction is set=0.23, colsample_bytree=1.0 will be ignored. Current value: feature_fraction=0.23\n",
      "[LightGBM] [Warning] min_data_in_leaf is set=6, min_child_samples=20 will be ignored. Current value: min_data_in_leaf=6\n",
      "[LightGBM] [Warning] min_sum_hessian_in_leaf is set=11, min_child_weight=0.001 will be ignored. Current value: min_sum_hessian_in_leaf=11\n",
      "[LightGBM] [Warning] bagging_fraction is set=0.8, subsample=1.0 will be ignored. Current value: bagging_fraction=0.8\n",
      "[LightGBM] [Warning] bagging_freq is set=5, subsample_freq=0 will be ignored. Current value: bagging_freq=5\n",
      "[LightGBM] [Warning] feature_fraction is set=0.23, colsample_bytree=1.0 will be ignored. Current value: feature_fraction=0.23\n",
      "[LightGBM] [Warning] min_data_in_leaf is set=6, min_child_samples=20 will be ignored. Current value: min_data_in_leaf=6\n",
      "[LightGBM] [Warning] min_sum_hessian_in_leaf is set=11, min_child_weight=0.001 will be ignored. Current value: min_sum_hessian_in_leaf=11\n",
      "[LightGBM] [Warning] bagging_fraction is set=0.8, subsample=1.0 will be ignored. Current value: bagging_fraction=0.8\n",
      "[LightGBM] [Warning] bagging_freq is set=5, subsample_freq=0 will be ignored. Current value: bagging_freq=5\n",
      "[LightGBM] [Warning] feature_fraction is set=0.23, colsample_bytree=1.0 will be ignored. Current value: feature_fraction=0.23\n",
      "[LightGBM] [Warning] min_data_in_leaf is set=6, min_child_samples=20 will be ignored. Current value: min_data_in_leaf=6\n",
      "[LightGBM] [Warning] min_sum_hessian_in_leaf is set=11, min_child_weight=0.001 will be ignored. Current value: min_sum_hessian_in_leaf=11\n",
      "[LightGBM] [Warning] bagging_fraction is set=0.8, subsample=1.0 will be ignored. Current value: bagging_fraction=0.8\n",
      "[LightGBM] [Warning] bagging_freq is set=5, subsample_freq=0 will be ignored. Current value: bagging_freq=5\n",
      "[LightGBM] [Warning] feature_fraction is set=0.23, colsample_bytree=1.0 will be ignored. Current value: feature_fraction=0.23\n",
      "[LightGBM] [Warning] min_data_in_leaf is set=6, min_child_samples=20 will be ignored. Current value: min_data_in_leaf=6\n",
      "[LightGBM] [Warning] min_sum_hessian_in_leaf is set=11, min_child_weight=0.001 will be ignored. Current value: min_sum_hessian_in_leaf=11\n",
      "[LightGBM] [Warning] bagging_fraction is set=0.8, subsample=1.0 will be ignored. Current value: bagging_fraction=0.8\n",
      "[LightGBM] [Warning] bagging_freq is set=5, subsample_freq=0 will be ignored. Current value: bagging_freq=5\n",
      "[LightGBM] [Warning] feature_fraction is set=0.23, colsample_bytree=1.0 will be ignored. Current value: feature_fraction=0.23\n",
      "[LightGBM] [Warning] min_data_in_leaf is set=6, min_child_samples=20 will be ignored. Current value: min_data_in_leaf=6\n",
      "[LightGBM] [Warning] min_sum_hessian_in_leaf is set=11, min_child_weight=0.001 will be ignored. Current value: min_sum_hessian_in_leaf=11\n",
      "[LightGBM] [Warning] bagging_fraction is set=0.8, subsample=1.0 will be ignored. Current value: bagging_fraction=0.8\n",
      "[LightGBM] [Warning] bagging_freq is set=5, subsample_freq=0 will be ignored. Current value: bagging_freq=5\n",
      "[00:37:01] WARNING: C:/buildkite-agent/builds/buildkite-windows-cpu-autoscaling-group-i-08de971ced8a8cdc6-1/xgboost/xgboost-ci-windows/src/objective/regression_obj.cu:213: reg:linear is now deprecated in favor of reg:squarederror.\n",
      "[00:37:10] WARNING: C:/buildkite-agent/builds/buildkite-windows-cpu-autoscaling-group-i-08de971ced8a8cdc6-1/xgboost/xgboost-ci-windows/src/objective/regression_obj.cu:213: reg:linear is now deprecated in favor of reg:squarederror.\n",
      "[LightGBM] [Warning] feature_fraction is set=0.23, colsample_bytree=1.0 will be ignored. Current value: feature_fraction=0.23\n",
      "[LightGBM] [Warning] min_data_in_leaf is set=6, min_child_samples=20 will be ignored. Current value: min_data_in_leaf=6\n",
      "[LightGBM] [Warning] min_sum_hessian_in_leaf is set=11, min_child_weight=0.001 will be ignored. Current value: min_sum_hessian_in_leaf=11\n",
      "[LightGBM] [Warning] bagging_fraction is set=0.8, subsample=1.0 will be ignored. Current value: bagging_fraction=0.8\n",
      "[LightGBM] [Warning] bagging_freq is set=5, subsample_freq=0 will be ignored. Current value: bagging_freq=5\n"
     ]
    }
   ],
   "source": [
    "stack_model = stack_regressor.fit(np.array(X_train),  np.array(y_train))"
   ]
  },
  {
   "cell_type": "code",
   "execution_count": 169,
   "id": "cf22185e",
   "metadata": {},
   "outputs": [],
   "source": [
    "from sklearn.linear_model import LinearRegression\n",
    "\n",
    "en_model = LinearRegression()\n",
    "en_model.fit(X_train, y_train)\n",
    "\n",
    "en_preds = en_model.predict(test_preprocessed)"
   ]
  },
  {
   "cell_type": "code",
   "execution_count": 170,
   "id": "8df2320e",
   "metadata": {},
   "outputs": [],
   "source": [
    "stack_gen_preds = stack_model.predict(test_preprocessed)"
   ]
  },
  {
   "cell_type": "code",
   "execution_count": 176,
   "id": "dd1c10e4",
   "metadata": {},
   "outputs": [],
   "source": [
    "lasso_preds = lasso_model.predict(test_preprocessed)"
   ]
  },
  {
   "cell_type": "code",
   "execution_count": 171,
   "id": "197126ac",
   "metadata": {},
   "outputs": [],
   "source": [
    "lgbm_preds = lgb_model.predict(test_preprocessed)"
   ]
  },
  {
   "cell_type": "code",
   "execution_count": 178,
   "id": "d07c0b6f",
   "metadata": {},
   "outputs": [],
   "source": [
    "# Weighted predictions\n",
    "stack_preds = ((0.2*en_preds) + (0.25*lasso_preds) + (0.15*lgbm_preds) + (0.4*stack_gen_preds))"
   ]
  },
  {
   "cell_type": "code",
   "execution_count": 179,
   "id": "21cddcbe",
   "metadata": {},
   "outputs": [
    {
     "data": {
      "text/html": [
       "<div>\n",
       "<style scoped>\n",
       "    .dataframe tbody tr th:only-of-type {\n",
       "        vertical-align: middle;\n",
       "    }\n",
       "\n",
       "    .dataframe tbody tr th {\n",
       "        vertical-align: top;\n",
       "    }\n",
       "\n",
       "    .dataframe thead th {\n",
       "        text-align: right;\n",
       "    }\n",
       "</style>\n",
       "<table border=\"1\" class=\"dataframe\">\n",
       "  <thead>\n",
       "    <tr style=\"text-align: right;\">\n",
       "      <th></th>\n",
       "      <th>SalePrice</th>\n",
       "    </tr>\n",
       "    <tr>\n",
       "      <th>Id</th>\n",
       "      <th></th>\n",
       "    </tr>\n",
       "  </thead>\n",
       "  <tbody>\n",
       "    <tr>\n",
       "      <th>1461</th>\n",
       "      <td>122755.164612</td>\n",
       "    </tr>\n",
       "    <tr>\n",
       "      <th>1462</th>\n",
       "      <td>161227.590756</td>\n",
       "    </tr>\n",
       "    <tr>\n",
       "      <th>1463</th>\n",
       "      <td>180658.843623</td>\n",
       "    </tr>\n",
       "    <tr>\n",
       "      <th>1464</th>\n",
       "      <td>196321.685885</td>\n",
       "    </tr>\n",
       "    <tr>\n",
       "      <th>1465</th>\n",
       "      <td>189501.456601</td>\n",
       "    </tr>\n",
       "  </tbody>\n",
       "</table>\n",
       "</div>"
      ],
      "text/plain": [
       "          SalePrice\n",
       "Id                 \n",
       "1461  122755.164612\n",
       "1462  161227.590756\n",
       "1463  180658.843623\n",
       "1464  196321.685885\n",
       "1465  189501.456601"
      ]
     },
     "execution_count": 179,
     "metadata": {},
     "output_type": "execute_result"
    }
   ],
   "source": [
    "predictions_df = pd.DataFrame(np.expm1(stack_preds), \n",
    "                              index = test_preprocessed.index+1, \n",
    "                              columns=[\"SalePrice\"])\n",
    "predictions_df.index.name = \"Id\"\n",
    "predictions_df.head()"
   ]
  },
  {
   "cell_type": "code",
   "execution_count": 180,
   "id": "069d7595",
   "metadata": {},
   "outputs": [],
   "source": [
    "predictions_df[\"SalePrice\"].to_csv(\"my_predictions.csv\", header=True)"
   ]
  },
  {
   "cell_type": "code",
   "execution_count": null,
   "id": "329106d7",
   "metadata": {},
   "outputs": [],
   "source": []
  }
 ],
 "metadata": {
  "kernelspec": {
   "display_name": "Python 3 (ipykernel)",
   "language": "python",
   "name": "python3"
  },
  "language_info": {
   "codemirror_mode": {
    "name": "ipython",
    "version": 3
   },
   "file_extension": ".py",
   "mimetype": "text/x-python",
   "name": "python",
   "nbconvert_exporter": "python",
   "pygments_lexer": "ipython3",
   "version": "3.9.13"
  }
 },
 "nbformat": 4,
 "nbformat_minor": 5
}
